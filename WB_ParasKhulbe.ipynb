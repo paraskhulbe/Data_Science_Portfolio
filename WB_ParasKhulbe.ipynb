{
  "cells": [
    {
      "cell_type": "markdown",
      "metadata": {
        "id": "view-in-github",
        "colab_type": "text"
      },
      "source": [
        "<a href=\"https://colab.research.google.com/github/paraskhulbe/Data_Science_Portfolio/blob/master/WB_ParasKhulbe.ipynb\" target=\"_parent\"><img src=\"https://colab.research.google.com/assets/colab-badge.svg\" alt=\"Open In Colab\"/></a>"
      ]
    },
    {
      "cell_type": "markdown",
      "metadata": {
        "id": "QLOm45YAd0LF"
      },
      "source": [
        "# The Data Analytics Workbench\n",
        "> Author: Paras Khulbe (paras@berlin.de)"
      ]
    },
    {
      "cell_type": "markdown",
      "metadata": {
        "id": "MuyBj73Ex1AD"
      },
      "source": [
        "## Outline of the Workflow\n",
        "\n",
        "---\n",
        "\n",
        "*   Connnecting the database\n",
        "*   Fetching the data and the schema\n",
        "*   Performing the EDA (Exploratory Data Analytics)"
      ]
    },
    {
      "cell_type": "markdown",
      "metadata": {
        "id": "NsqtBmhYx6GC"
      },
      "source": [
        "### Connecting the database"
      ]
    },
    {
      "cell_type": "code",
      "execution_count": 43,
      "metadata": {
        "id": "5DntU45yyBNf"
      },
      "outputs": [],
      "source": [
        "#Library for interaction with SQL databse\n",
        "import sqlalchemy as db\n",
        "from sqlalchemy.orm import sessionmaker"
      ]
    },
    {
      "cell_type": "code",
      "execution_count": 44,
      "metadata": {
        "colab": {
          "base_uri": "https://localhost:8080/"
        },
        "id": "0MDfbpRo0hq2",
        "outputId": "fe74a795-2ef6-4ca2-d588-4bcec8d073de"
      },
      "outputs": [
        {
          "output_type": "stream",
          "name": "stdout",
          "text": [
            "Looking in indexes: https://pypi.org/simple, https://us-python.pkg.dev/colab-wheels/public/simple/\n",
            "Requirement already satisfied: pymysql in /usr/local/lib/python3.7/dist-packages (1.0.2)\n"
          ]
        }
      ],
      "source": [
        "#Attributes of the connection\n",
        "server = 'da-interview-20220614.c32jfbfj2urv.eu-central-1.rds.amazonaws.com'\n",
        "port = 3306\n",
        "database = 'interview'\n",
        "username = 'interview'\n",
        "password = 'U07*R1w&J87o5CUNHbyGusON'\n",
        "!pip install pymysql\n",
        "driver = 'mysql+pymysql'"
      ]
    },
    {
      "cell_type": "code",
      "execution_count": 45,
      "metadata": {
        "colab": {
          "base_uri": "https://localhost:8080/"
        },
        "id": "yKChFFrD0kSb",
        "outputId": "22fa42b1-3b20-41f5-c75f-d0f071addb3f"
      },
      "outputs": [
        {
          "output_type": "stream",
          "name": "stderr",
          "text": [
            "/usr/local/lib/python3.7/dist-packages/ipykernel_launcher.py:2: SADeprecationWarning: Calling URL() directly is deprecated and will be disabled in a future release.  The public constructor for URL is now the URL.create() method.\n",
            "  \n"
          ]
        }
      ],
      "source": [
        "#combining the attributes to form a locator for the database\n",
        "url = db.engine.URL(driver, username, password, server, port, database)\n",
        "\n",
        "#setting up the connection with the locator\n",
        "engine = db.create_engine(url, echo=True,connect_args={'ssl': {'activate': True}})"
      ]
    },
    {
      "cell_type": "markdown",
      "metadata": {
        "id": "VahKiqQy36fL"
      },
      "source": [
        "### Fetching the data and the schema"
      ]
    },
    {
      "cell_type": "code",
      "execution_count": 46,
      "metadata": {
        "id": "GGSQm69TBHL4"
      },
      "outputs": [],
      "source": [
        "import ipywidgets as widgets\n",
        "import pandas as pd"
      ]
    },
    {
      "cell_type": "code",
      "execution_count": 47,
      "metadata": {
        "colab": {
          "base_uri": "https://localhost:8080/"
        },
        "id": "MOoz9dPm5soY",
        "outputId": "3ac6c320-483f-48dd-a983-32789487f142"
      },
      "outputs": [
        {
          "output_type": "stream",
          "name": "stderr",
          "text": [
            "/usr/local/lib/python3.7/dist-packages/ipykernel_launcher.py:1: SADeprecationWarning: The Engine.table_names() method is deprecated and will be removed in a future release.  Please refer to Inspector.get_table_names(). (deprecated since: 1.4)\n",
            "  \"\"\"Entry point for launching an IPython kernel.\n"
          ]
        },
        {
          "output_type": "stream",
          "name": "stdout",
          "text": [
            "2022-07-06 10:05:26,124 INFO sqlalchemy.engine.Engine SELECT DATABASE()\n"
          ]
        },
        {
          "output_type": "stream",
          "name": "stderr",
          "text": [
            "SELECT DATABASE()\n"
          ]
        },
        {
          "output_type": "stream",
          "name": "stdout",
          "text": [
            "2022-07-06 10:05:26,128 INFO sqlalchemy.engine.Engine [raw sql] {}\n"
          ]
        },
        {
          "output_type": "stream",
          "name": "stderr",
          "text": [
            "[raw sql] {}\n"
          ]
        },
        {
          "output_type": "stream",
          "name": "stdout",
          "text": [
            "2022-07-06 10:05:26,328 INFO sqlalchemy.engine.Engine SELECT @@sql_mode\n"
          ]
        },
        {
          "output_type": "stream",
          "name": "stderr",
          "text": [
            "SELECT @@sql_mode\n"
          ]
        },
        {
          "output_type": "stream",
          "name": "stdout",
          "text": [
            "2022-07-06 10:05:26,332 INFO sqlalchemy.engine.Engine [raw sql] {}\n"
          ]
        },
        {
          "output_type": "stream",
          "name": "stderr",
          "text": [
            "[raw sql] {}\n"
          ]
        },
        {
          "output_type": "stream",
          "name": "stdout",
          "text": [
            "2022-07-06 10:05:26,434 INFO sqlalchemy.engine.Engine SELECT @@lower_case_table_names\n"
          ]
        },
        {
          "output_type": "stream",
          "name": "stderr",
          "text": [
            "SELECT @@lower_case_table_names\n"
          ]
        },
        {
          "output_type": "stream",
          "name": "stdout",
          "text": [
            "2022-07-06 10:05:26,438 INFO sqlalchemy.engine.Engine [raw sql] {}\n"
          ]
        },
        {
          "output_type": "stream",
          "name": "stderr",
          "text": [
            "[raw sql] {}\n"
          ]
        },
        {
          "output_type": "stream",
          "name": "stdout",
          "text": [
            "2022-07-06 10:05:26,637 INFO sqlalchemy.engine.Engine SHOW FULL TABLES FROM `interview`\n"
          ]
        },
        {
          "output_type": "stream",
          "name": "stderr",
          "text": [
            "SHOW FULL TABLES FROM `interview`\n"
          ]
        },
        {
          "output_type": "stream",
          "name": "stdout",
          "text": [
            "2022-07-06 10:05:26,640 INFO sqlalchemy.engine.Engine [raw sql] {}\n"
          ]
        },
        {
          "output_type": "stream",
          "name": "stderr",
          "text": [
            "[raw sql] {}\n"
          ]
        },
        {
          "output_type": "stream",
          "name": "stdout",
          "text": [
            "2022-07-06 10:05:26,938 INFO sqlalchemy.engine.Engine SHOW FULL TABLES FROM `interview`\n"
          ]
        },
        {
          "output_type": "stream",
          "name": "stderr",
          "text": [
            "SHOW FULL TABLES FROM `interview`\n"
          ]
        },
        {
          "output_type": "stream",
          "name": "stdout",
          "text": [
            "2022-07-06 10:05:26,941 INFO sqlalchemy.engine.Engine [raw sql] {}\n"
          ]
        },
        {
          "output_type": "stream",
          "name": "stderr",
          "text": [
            "[raw sql] {}\n"
          ]
        },
        {
          "output_type": "stream",
          "name": "stdout",
          "text": [
            "2022-07-06 10:05:27,105 INFO sqlalchemy.engine.Engine SHOW FULL TABLES FROM `interview`\n"
          ]
        },
        {
          "output_type": "stream",
          "name": "stderr",
          "text": [
            "SHOW FULL TABLES FROM `interview`\n"
          ]
        },
        {
          "output_type": "stream",
          "name": "stdout",
          "text": [
            "2022-07-06 10:05:27,110 INFO sqlalchemy.engine.Engine [raw sql] {}\n"
          ]
        },
        {
          "output_type": "stream",
          "name": "stderr",
          "text": [
            "[raw sql] {}\n"
          ]
        },
        {
          "output_type": "stream",
          "name": "stdout",
          "text": [
            "2022-07-06 10:05:27,227 INFO sqlalchemy.engine.Engine SHOW CREATE TABLE `affiliate_product_reference`\n"
          ]
        },
        {
          "output_type": "stream",
          "name": "stderr",
          "text": [
            "SHOW CREATE TABLE `affiliate_product_reference`\n"
          ]
        },
        {
          "output_type": "stream",
          "name": "stdout",
          "text": [
            "2022-07-06 10:05:27,230 INFO sqlalchemy.engine.Engine [raw sql] {}\n"
          ]
        },
        {
          "output_type": "stream",
          "name": "stderr",
          "text": [
            "[raw sql] {}\n"
          ]
        },
        {
          "output_type": "stream",
          "name": "stdout",
          "text": [
            "2022-07-06 10:05:27,336 INFO sqlalchemy.engine.Engine \n",
            "                    select table_schema, table_name, column_name\n",
            "                    from information_schema.columns\n",
            "                    where (table_schema, table_name, lower(column_name)) in\n",
            "                    ((%(table_data_1_1)s, %(table_data_1_2)s, %(table_data_1_3)s));\n",
            "                \n"
          ]
        },
        {
          "output_type": "stream",
          "name": "stderr",
          "text": [
            "\n",
            "                    select table_schema, table_name, column_name\n",
            "                    from information_schema.columns\n",
            "                    where (table_schema, table_name, lower(column_name)) in\n",
            "                    ((%(table_data_1_1)s, %(table_data_1_2)s, %(table_data_1_3)s));\n",
            "                \n"
          ]
        },
        {
          "output_type": "stream",
          "name": "stdout",
          "text": [
            "2022-07-06 10:05:27,339 INFO sqlalchemy.engine.Engine [generated in 0.00346s] {'table_data_1_1': 'interview', 'table_data_1_2': 'product', 'table_data_1_3': 'id'}\n"
          ]
        },
        {
          "output_type": "stream",
          "name": "stderr",
          "text": [
            "[generated in 0.00346s] {'table_data_1_1': 'interview', 'table_data_1_2': 'product', 'table_data_1_3': 'id'}\n"
          ]
        },
        {
          "output_type": "stream",
          "name": "stdout",
          "text": [
            "2022-07-06 10:05:27,443 INFO sqlalchemy.engine.Engine SHOW CREATE TABLE `product`\n"
          ]
        },
        {
          "output_type": "stream",
          "name": "stderr",
          "text": [
            "SHOW CREATE TABLE `product`\n"
          ]
        },
        {
          "output_type": "stream",
          "name": "stdout",
          "text": [
            "2022-07-06 10:05:27,446 INFO sqlalchemy.engine.Engine [raw sql] {}\n"
          ]
        },
        {
          "output_type": "stream",
          "name": "stderr",
          "text": [
            "[raw sql] {}\n"
          ]
        },
        {
          "output_type": "stream",
          "name": "stdout",
          "text": [
            "2022-07-06 10:05:27,551 INFO sqlalchemy.engine.Engine \n",
            "                    select table_schema, table_name, column_name\n",
            "                    from information_schema.columns\n",
            "                    where (table_schema, table_name, lower(column_name)) in\n",
            "                    ((%(table_data_1_1)s, %(table_data_1_2)s, %(table_data_1_3)s));\n",
            "                \n"
          ]
        },
        {
          "output_type": "stream",
          "name": "stderr",
          "text": [
            "\n",
            "                    select table_schema, table_name, column_name\n",
            "                    from information_schema.columns\n",
            "                    where (table_schema, table_name, lower(column_name)) in\n",
            "                    ((%(table_data_1_1)s, %(table_data_1_2)s, %(table_data_1_3)s));\n",
            "                \n"
          ]
        },
        {
          "output_type": "stream",
          "name": "stdout",
          "text": [
            "2022-07-06 10:05:27,554 INFO sqlalchemy.engine.Engine [cached since 0.2188s ago] {'table_data_1_1': 'interview', 'table_data_1_2': 'vendor', 'table_data_1_3': 'id'}\n"
          ]
        },
        {
          "output_type": "stream",
          "name": "stderr",
          "text": [
            "[cached since 0.2188s ago] {'table_data_1_1': 'interview', 'table_data_1_2': 'vendor', 'table_data_1_3': 'id'}\n"
          ]
        },
        {
          "output_type": "stream",
          "name": "stdout",
          "text": [
            "2022-07-06 10:05:27,656 INFO sqlalchemy.engine.Engine SHOW CREATE TABLE `vendor`\n"
          ]
        },
        {
          "output_type": "stream",
          "name": "stderr",
          "text": [
            "SHOW CREATE TABLE `vendor`\n"
          ]
        },
        {
          "output_type": "stream",
          "name": "stdout",
          "text": [
            "2022-07-06 10:05:27,660 INFO sqlalchemy.engine.Engine [raw sql] {}\n"
          ]
        },
        {
          "output_type": "stream",
          "name": "stderr",
          "text": [
            "[raw sql] {}\n"
          ]
        },
        {
          "output_type": "stream",
          "name": "stdout",
          "text": [
            "2022-07-06 10:05:27,862 INFO sqlalchemy.engine.Engine SELECT affiliate_product_reference.id, affiliate_product_reference.product_id, affiliate_product_reference.variant, affiliate_product_reference.ignore_sale, affiliate_product_reference.no_commission, affiliate_product_reference.is_signup \n",
            "FROM affiliate_product_reference\n"
          ]
        },
        {
          "output_type": "stream",
          "name": "stderr",
          "text": [
            "SELECT affiliate_product_reference.id, affiliate_product_reference.product_id, affiliate_product_reference.variant, affiliate_product_reference.ignore_sale, affiliate_product_reference.no_commission, affiliate_product_reference.is_signup \n",
            "FROM affiliate_product_reference\n"
          ]
        },
        {
          "output_type": "stream",
          "name": "stdout",
          "text": [
            "2022-07-06 10:05:27,868 INFO sqlalchemy.engine.Engine [generated in 0.00561s] {}\n"
          ]
        },
        {
          "output_type": "stream",
          "name": "stderr",
          "text": [
            "[generated in 0.00561s] {}\n"
          ]
        },
        {
          "output_type": "stream",
          "name": "stdout",
          "text": [
            "2022-07-06 10:05:28,383 INFO sqlalchemy.engine.Engine SHOW FULL TABLES FROM `interview`\n"
          ]
        },
        {
          "output_type": "stream",
          "name": "stderr",
          "text": [
            "SHOW FULL TABLES FROM `interview`\n"
          ]
        },
        {
          "output_type": "stream",
          "name": "stdout",
          "text": [
            "2022-07-06 10:05:28,387 INFO sqlalchemy.engine.Engine [raw sql] {}\n"
          ]
        },
        {
          "output_type": "stream",
          "name": "stderr",
          "text": [
            "[raw sql] {}\n"
          ]
        },
        {
          "output_type": "stream",
          "name": "stdout",
          "text": [
            "2022-07-06 10:05:28,495 INFO sqlalchemy.engine.Engine SHOW FULL TABLES FROM `interview`\n"
          ]
        },
        {
          "output_type": "stream",
          "name": "stderr",
          "text": [
            "SHOW FULL TABLES FROM `interview`\n"
          ]
        },
        {
          "output_type": "stream",
          "name": "stdout",
          "text": [
            "2022-07-06 10:05:28,499 INFO sqlalchemy.engine.Engine [raw sql] {}\n"
          ]
        },
        {
          "output_type": "stream",
          "name": "stderr",
          "text": [
            "[raw sql] {}\n"
          ]
        },
        {
          "output_type": "stream",
          "name": "stdout",
          "text": [
            "2022-07-06 10:05:28,604 INFO sqlalchemy.engine.Engine SHOW CREATE TABLE `clickout`\n"
          ]
        },
        {
          "output_type": "stream",
          "name": "stderr",
          "text": [
            "SHOW CREATE TABLE `clickout`\n"
          ]
        },
        {
          "output_type": "stream",
          "name": "stdout",
          "text": [
            "2022-07-06 10:05:28,607 INFO sqlalchemy.engine.Engine [raw sql] {}\n"
          ]
        },
        {
          "output_type": "stream",
          "name": "stderr",
          "text": [
            "[raw sql] {}\n"
          ]
        },
        {
          "output_type": "stream",
          "name": "stdout",
          "text": [
            "2022-07-06 10:05:28,717 INFO sqlalchemy.engine.Engine \n",
            "                    select table_schema, table_name, column_name\n",
            "                    from information_schema.columns\n",
            "                    where (table_schema, table_name, lower(column_name)) in\n",
            "                    ((%(table_data_1_1)s, %(table_data_1_2)s, %(table_data_1_3)s));\n",
            "                \n"
          ]
        },
        {
          "output_type": "stream",
          "name": "stderr",
          "text": [
            "\n",
            "                    select table_schema, table_name, column_name\n",
            "                    from information_schema.columns\n",
            "                    where (table_schema, table_name, lower(column_name)) in\n",
            "                    ((%(table_data_1_1)s, %(table_data_1_2)s, %(table_data_1_3)s));\n",
            "                \n"
          ]
        },
        {
          "output_type": "stream",
          "name": "stdout",
          "text": [
            "2022-07-06 10:05:28,721 INFO sqlalchemy.engine.Engine [cached since 1.385s ago] {'table_data_1_1': 'interview', 'table_data_1_2': 'creative', 'table_data_1_3': 'id'}\n"
          ]
        },
        {
          "output_type": "stream",
          "name": "stderr",
          "text": [
            "[cached since 1.385s ago] {'table_data_1_1': 'interview', 'table_data_1_2': 'creative', 'table_data_1_3': 'id'}\n"
          ]
        },
        {
          "output_type": "stream",
          "name": "stdout",
          "text": [
            "2022-07-06 10:05:28,827 INFO sqlalchemy.engine.Engine SHOW CREATE TABLE `creative`\n"
          ]
        },
        {
          "output_type": "stream",
          "name": "stderr",
          "text": [
            "SHOW CREATE TABLE `creative`\n"
          ]
        },
        {
          "output_type": "stream",
          "name": "stdout",
          "text": [
            "2022-07-06 10:05:28,830 INFO sqlalchemy.engine.Engine [raw sql] {}\n"
          ]
        },
        {
          "output_type": "stream",
          "name": "stderr",
          "text": [
            "[raw sql] {}\n"
          ]
        },
        {
          "output_type": "stream",
          "name": "stdout",
          "text": [
            "2022-07-06 10:05:28,934 INFO sqlalchemy.engine.Engine \n",
            "                    select table_schema, table_name, column_name\n",
            "                    from information_schema.columns\n",
            "                    where (table_schema, table_name, lower(column_name)) in\n",
            "                    ((%(table_data_1_1)s, %(table_data_1_2)s, %(table_data_1_3)s));\n",
            "                \n"
          ]
        },
        {
          "output_type": "stream",
          "name": "stderr",
          "text": [
            "\n",
            "                    select table_schema, table_name, column_name\n",
            "                    from information_schema.columns\n",
            "                    where (table_schema, table_name, lower(column_name)) in\n",
            "                    ((%(table_data_1_1)s, %(table_data_1_2)s, %(table_data_1_3)s));\n",
            "                \n"
          ]
        },
        {
          "output_type": "stream",
          "name": "stdout",
          "text": [
            "2022-07-06 10:05:28,940 INFO sqlalchemy.engine.Engine [cached since 1.605s ago] {'table_data_1_1': 'interview', 'table_data_1_2': 'product', 'table_data_1_3': 'id'}\n"
          ]
        },
        {
          "output_type": "stream",
          "name": "stderr",
          "text": [
            "[cached since 1.605s ago] {'table_data_1_1': 'interview', 'table_data_1_2': 'product', 'table_data_1_3': 'id'}\n"
          ]
        },
        {
          "output_type": "stream",
          "name": "stdout",
          "text": [
            "2022-07-06 10:05:29,043 INFO sqlalchemy.engine.Engine SHOW CREATE TABLE `product`\n"
          ]
        },
        {
          "output_type": "stream",
          "name": "stderr",
          "text": [
            "SHOW CREATE TABLE `product`\n"
          ]
        },
        {
          "output_type": "stream",
          "name": "stdout",
          "text": [
            "2022-07-06 10:05:29,049 INFO sqlalchemy.engine.Engine [raw sql] {}\n"
          ]
        },
        {
          "output_type": "stream",
          "name": "stderr",
          "text": [
            "[raw sql] {}\n"
          ]
        },
        {
          "output_type": "stream",
          "name": "stdout",
          "text": [
            "2022-07-06 10:05:29,153 INFO sqlalchemy.engine.Engine \n",
            "                    select table_schema, table_name, column_name\n",
            "                    from information_schema.columns\n",
            "                    where (table_schema, table_name, lower(column_name)) in\n",
            "                    ((%(table_data_1_1)s, %(table_data_1_2)s, %(table_data_1_3)s));\n",
            "                \n"
          ]
        },
        {
          "output_type": "stream",
          "name": "stderr",
          "text": [
            "\n",
            "                    select table_schema, table_name, column_name\n",
            "                    from information_schema.columns\n",
            "                    where (table_schema, table_name, lower(column_name)) in\n",
            "                    ((%(table_data_1_1)s, %(table_data_1_2)s, %(table_data_1_3)s));\n",
            "                \n"
          ]
        },
        {
          "output_type": "stream",
          "name": "stdout",
          "text": [
            "2022-07-06 10:05:29,159 INFO sqlalchemy.engine.Engine [cached since 1.823s ago] {'table_data_1_1': 'interview', 'table_data_1_2': 'vendor', 'table_data_1_3': 'id'}\n"
          ]
        },
        {
          "output_type": "stream",
          "name": "stderr",
          "text": [
            "[cached since 1.823s ago] {'table_data_1_1': 'interview', 'table_data_1_2': 'vendor', 'table_data_1_3': 'id'}\n"
          ]
        },
        {
          "output_type": "stream",
          "name": "stdout",
          "text": [
            "2022-07-06 10:05:29,266 INFO sqlalchemy.engine.Engine SHOW CREATE TABLE `vendor`\n"
          ]
        },
        {
          "output_type": "stream",
          "name": "stderr",
          "text": [
            "SHOW CREATE TABLE `vendor`\n"
          ]
        },
        {
          "output_type": "stream",
          "name": "stdout",
          "text": [
            "2022-07-06 10:05:29,270 INFO sqlalchemy.engine.Engine [raw sql] {}\n"
          ]
        },
        {
          "output_type": "stream",
          "name": "stderr",
          "text": [
            "[raw sql] {}\n"
          ]
        },
        {
          "output_type": "stream",
          "name": "stdout",
          "text": [
            "2022-07-06 10:05:29,477 INFO sqlalchemy.engine.Engine SELECT clickout.id, clickout.creative_id, clickout.client_user_agent, clickout.client_accept_language, clickout.client_referer, clickout.utm_source, clickout.utm_medium, clickout.utm_term, clickout.utm_content, clickout.utm_campaign, clickout.project_key, clickout.created_at, clickout.submitted_at, clickout.system_url, clickout.country_code, clickout.event_category, clickout.clickout_uid, clickout.category, clickout.cluster, clickout.sub_cluster, clickout.device, clickout.advertiser, clickout.language_area, clickout.language, clickout.domain, clickout.ignore_country, clickout.match_type, clickout.ab_test, clickout.sub_id \n",
            "FROM clickout\n"
          ]
        },
        {
          "output_type": "stream",
          "name": "stderr",
          "text": [
            "SELECT clickout.id, clickout.creative_id, clickout.client_user_agent, clickout.client_accept_language, clickout.client_referer, clickout.utm_source, clickout.utm_medium, clickout.utm_term, clickout.utm_content, clickout.utm_campaign, clickout.project_key, clickout.created_at, clickout.submitted_at, clickout.system_url, clickout.country_code, clickout.event_category, clickout.clickout_uid, clickout.category, clickout.cluster, clickout.sub_cluster, clickout.device, clickout.advertiser, clickout.language_area, clickout.language, clickout.domain, clickout.ignore_country, clickout.match_type, clickout.ab_test, clickout.sub_id \n",
            "FROM clickout\n"
          ]
        },
        {
          "output_type": "stream",
          "name": "stdout",
          "text": [
            "2022-07-06 10:05:29,480 INFO sqlalchemy.engine.Engine [generated in 0.00354s] {}\n"
          ]
        },
        {
          "output_type": "stream",
          "name": "stderr",
          "text": [
            "[generated in 0.00354s] {}\n"
          ]
        },
        {
          "output_type": "stream",
          "name": "stdout",
          "text": [
            "2022-07-06 10:05:37,529 INFO sqlalchemy.engine.Engine SHOW FULL TABLES FROM `interview`\n"
          ]
        },
        {
          "output_type": "stream",
          "name": "stderr",
          "text": [
            "SHOW FULL TABLES FROM `interview`\n"
          ]
        },
        {
          "output_type": "stream",
          "name": "stdout",
          "text": [
            "2022-07-06 10:05:37,532 INFO sqlalchemy.engine.Engine [raw sql] {}\n"
          ]
        },
        {
          "output_type": "stream",
          "name": "stderr",
          "text": [
            "[raw sql] {}\n"
          ]
        },
        {
          "output_type": "stream",
          "name": "stdout",
          "text": [
            "2022-07-06 10:05:37,644 INFO sqlalchemy.engine.Engine SHOW FULL TABLES FROM `interview`\n"
          ]
        },
        {
          "output_type": "stream",
          "name": "stderr",
          "text": [
            "SHOW FULL TABLES FROM `interview`\n"
          ]
        },
        {
          "output_type": "stream",
          "name": "stdout",
          "text": [
            "2022-07-06 10:05:37,655 INFO sqlalchemy.engine.Engine [raw sql] {}\n"
          ]
        },
        {
          "output_type": "stream",
          "name": "stderr",
          "text": [
            "[raw sql] {}\n"
          ]
        },
        {
          "output_type": "stream",
          "name": "stdout",
          "text": [
            "2022-07-06 10:05:37,772 INFO sqlalchemy.engine.Engine SHOW CREATE TABLE `creative`\n"
          ]
        },
        {
          "output_type": "stream",
          "name": "stderr",
          "text": [
            "SHOW CREATE TABLE `creative`\n"
          ]
        },
        {
          "output_type": "stream",
          "name": "stdout",
          "text": [
            "2022-07-06 10:05:37,784 INFO sqlalchemy.engine.Engine [raw sql] {}\n"
          ]
        },
        {
          "output_type": "stream",
          "name": "stderr",
          "text": [
            "[raw sql] {}\n"
          ]
        },
        {
          "output_type": "stream",
          "name": "stdout",
          "text": [
            "2022-07-06 10:05:37,900 INFO sqlalchemy.engine.Engine \n",
            "                    select table_schema, table_name, column_name\n",
            "                    from information_schema.columns\n",
            "                    where (table_schema, table_name, lower(column_name)) in\n",
            "                    ((%(table_data_1_1)s, %(table_data_1_2)s, %(table_data_1_3)s));\n",
            "                \n"
          ]
        },
        {
          "output_type": "stream",
          "name": "stderr",
          "text": [
            "\n",
            "                    select table_schema, table_name, column_name\n",
            "                    from information_schema.columns\n",
            "                    where (table_schema, table_name, lower(column_name)) in\n",
            "                    ((%(table_data_1_1)s, %(table_data_1_2)s, %(table_data_1_3)s));\n",
            "                \n"
          ]
        },
        {
          "output_type": "stream",
          "name": "stdout",
          "text": [
            "2022-07-06 10:05:37,918 INFO sqlalchemy.engine.Engine [cached since 10.58s ago] {'table_data_1_1': 'interview', 'table_data_1_2': 'product', 'table_data_1_3': 'id'}\n"
          ]
        },
        {
          "output_type": "stream",
          "name": "stderr",
          "text": [
            "[cached since 10.58s ago] {'table_data_1_1': 'interview', 'table_data_1_2': 'product', 'table_data_1_3': 'id'}\n"
          ]
        },
        {
          "output_type": "stream",
          "name": "stdout",
          "text": [
            "2022-07-06 10:05:38,026 INFO sqlalchemy.engine.Engine SHOW CREATE TABLE `product`\n"
          ]
        },
        {
          "output_type": "stream",
          "name": "stderr",
          "text": [
            "SHOW CREATE TABLE `product`\n"
          ]
        },
        {
          "output_type": "stream",
          "name": "stdout",
          "text": [
            "2022-07-06 10:05:38,036 INFO sqlalchemy.engine.Engine [raw sql] {}\n"
          ]
        },
        {
          "output_type": "stream",
          "name": "stderr",
          "text": [
            "[raw sql] {}\n"
          ]
        },
        {
          "output_type": "stream",
          "name": "stdout",
          "text": [
            "2022-07-06 10:05:38,140 INFO sqlalchemy.engine.Engine \n",
            "                    select table_schema, table_name, column_name\n",
            "                    from information_schema.columns\n",
            "                    where (table_schema, table_name, lower(column_name)) in\n",
            "                    ((%(table_data_1_1)s, %(table_data_1_2)s, %(table_data_1_3)s));\n",
            "                \n"
          ]
        },
        {
          "output_type": "stream",
          "name": "stderr",
          "text": [
            "\n",
            "                    select table_schema, table_name, column_name\n",
            "                    from information_schema.columns\n",
            "                    where (table_schema, table_name, lower(column_name)) in\n",
            "                    ((%(table_data_1_1)s, %(table_data_1_2)s, %(table_data_1_3)s));\n",
            "                \n"
          ]
        },
        {
          "output_type": "stream",
          "name": "stdout",
          "text": [
            "2022-07-06 10:05:38,155 INFO sqlalchemy.engine.Engine [cached since 10.82s ago] {'table_data_1_1': 'interview', 'table_data_1_2': 'vendor', 'table_data_1_3': 'id'}\n"
          ]
        },
        {
          "output_type": "stream",
          "name": "stderr",
          "text": [
            "[cached since 10.82s ago] {'table_data_1_1': 'interview', 'table_data_1_2': 'vendor', 'table_data_1_3': 'id'}\n"
          ]
        },
        {
          "output_type": "stream",
          "name": "stdout",
          "text": [
            "2022-07-06 10:05:38,258 INFO sqlalchemy.engine.Engine SHOW CREATE TABLE `vendor`\n"
          ]
        },
        {
          "output_type": "stream",
          "name": "stderr",
          "text": [
            "SHOW CREATE TABLE `vendor`\n"
          ]
        },
        {
          "output_type": "stream",
          "name": "stdout",
          "text": [
            "2022-07-06 10:05:38,268 INFO sqlalchemy.engine.Engine [raw sql] {}\n"
          ]
        },
        {
          "output_type": "stream",
          "name": "stderr",
          "text": [
            "[raw sql] {}\n"
          ]
        },
        {
          "output_type": "stream",
          "name": "stdout",
          "text": [
            "2022-07-06 10:05:38,483 INFO sqlalchemy.engine.Engine SELECT creative.id, creative.product_id, creative.value \n",
            "FROM creative\n"
          ]
        },
        {
          "output_type": "stream",
          "name": "stderr",
          "text": [
            "SELECT creative.id, creative.product_id, creative.value \n",
            "FROM creative\n"
          ]
        },
        {
          "output_type": "stream",
          "name": "stdout",
          "text": [
            "2022-07-06 10:05:38,494 INFO sqlalchemy.engine.Engine [generated in 0.01103s] {}\n"
          ]
        },
        {
          "output_type": "stream",
          "name": "stderr",
          "text": [
            "[generated in 0.01103s] {}\n"
          ]
        },
        {
          "output_type": "stream",
          "name": "stdout",
          "text": [
            "2022-07-06 10:05:38,857 INFO sqlalchemy.engine.Engine SHOW FULL TABLES FROM `interview`\n"
          ]
        },
        {
          "output_type": "stream",
          "name": "stderr",
          "text": [
            "SHOW FULL TABLES FROM `interview`\n"
          ]
        },
        {
          "output_type": "stream",
          "name": "stdout",
          "text": [
            "2022-07-06 10:05:38,862 INFO sqlalchemy.engine.Engine [raw sql] {}\n"
          ]
        },
        {
          "output_type": "stream",
          "name": "stderr",
          "text": [
            "[raw sql] {}\n"
          ]
        },
        {
          "output_type": "stream",
          "name": "stdout",
          "text": [
            "2022-07-06 10:05:38,968 INFO sqlalchemy.engine.Engine SHOW FULL TABLES FROM `interview`\n"
          ]
        },
        {
          "output_type": "stream",
          "name": "stderr",
          "text": [
            "SHOW FULL TABLES FROM `interview`\n"
          ]
        },
        {
          "output_type": "stream",
          "name": "stdout",
          "text": [
            "2022-07-06 10:05:38,982 INFO sqlalchemy.engine.Engine [raw sql] {}\n"
          ]
        },
        {
          "output_type": "stream",
          "name": "stderr",
          "text": [
            "[raw sql] {}\n"
          ]
        },
        {
          "output_type": "stream",
          "name": "stdout",
          "text": [
            "2022-07-06 10:05:39,099 INFO sqlalchemy.engine.Engine SHOW CREATE TABLE `currency`\n"
          ]
        },
        {
          "output_type": "stream",
          "name": "stderr",
          "text": [
            "SHOW CREATE TABLE `currency`\n"
          ]
        },
        {
          "output_type": "stream",
          "name": "stdout",
          "text": [
            "2022-07-06 10:05:39,110 INFO sqlalchemy.engine.Engine [raw sql] {}\n"
          ]
        },
        {
          "output_type": "stream",
          "name": "stderr",
          "text": [
            "[raw sql] {}\n"
          ]
        },
        {
          "output_type": "stream",
          "name": "stdout",
          "text": [
            "2022-07-06 10:05:39,317 INFO sqlalchemy.engine.Engine SELECT currency.id, currency.symbol, currency.code, currency.number, currency.display_name \n",
            "FROM currency\n"
          ]
        },
        {
          "output_type": "stream",
          "name": "stderr",
          "text": [
            "SELECT currency.id, currency.symbol, currency.code, currency.number, currency.display_name \n",
            "FROM currency\n"
          ]
        },
        {
          "output_type": "stream",
          "name": "stdout",
          "text": [
            "2022-07-06 10:05:39,328 INFO sqlalchemy.engine.Engine [generated in 0.01079s] {}\n"
          ]
        },
        {
          "output_type": "stream",
          "name": "stderr",
          "text": [
            "[generated in 0.01079s] {}\n"
          ]
        },
        {
          "output_type": "stream",
          "name": "stdout",
          "text": [
            "2022-07-06 10:05:39,641 INFO sqlalchemy.engine.Engine SHOW FULL TABLES FROM `interview`\n"
          ]
        },
        {
          "output_type": "stream",
          "name": "stderr",
          "text": [
            "SHOW FULL TABLES FROM `interview`\n"
          ]
        },
        {
          "output_type": "stream",
          "name": "stdout",
          "text": [
            "2022-07-06 10:05:39,644 INFO sqlalchemy.engine.Engine [raw sql] {}\n"
          ]
        },
        {
          "output_type": "stream",
          "name": "stderr",
          "text": [
            "[raw sql] {}\n"
          ]
        },
        {
          "output_type": "stream",
          "name": "stdout",
          "text": [
            "2022-07-06 10:05:39,764 INFO sqlalchemy.engine.Engine SHOW FULL TABLES FROM `interview`\n"
          ]
        },
        {
          "output_type": "stream",
          "name": "stderr",
          "text": [
            "SHOW FULL TABLES FROM `interview`\n"
          ]
        },
        {
          "output_type": "stream",
          "name": "stdout",
          "text": [
            "2022-07-06 10:05:39,771 INFO sqlalchemy.engine.Engine [raw sql] {}\n"
          ]
        },
        {
          "output_type": "stream",
          "name": "stderr",
          "text": [
            "[raw sql] {}\n"
          ]
        },
        {
          "output_type": "stream",
          "name": "stdout",
          "text": [
            "2022-07-06 10:05:39,882 INFO sqlalchemy.engine.Engine SHOW CREATE TABLE `domain`\n"
          ]
        },
        {
          "output_type": "stream",
          "name": "stderr",
          "text": [
            "SHOW CREATE TABLE `domain`\n"
          ]
        },
        {
          "output_type": "stream",
          "name": "stdout",
          "text": [
            "2022-07-06 10:05:39,891 INFO sqlalchemy.engine.Engine [raw sql] {}\n"
          ]
        },
        {
          "output_type": "stream",
          "name": "stderr",
          "text": [
            "[raw sql] {}\n"
          ]
        },
        {
          "output_type": "stream",
          "name": "stdout",
          "text": [
            "2022-07-06 10:05:40,101 INFO sqlalchemy.engine.Engine SELECT domain.id, domain.host \n",
            "FROM domain\n"
          ]
        },
        {
          "output_type": "stream",
          "name": "stderr",
          "text": [
            "SELECT domain.id, domain.host \n",
            "FROM domain\n"
          ]
        },
        {
          "output_type": "stream",
          "name": "stdout",
          "text": [
            "2022-07-06 10:05:40,125 INFO sqlalchemy.engine.Engine [generated in 0.02448s] {}\n"
          ]
        },
        {
          "output_type": "stream",
          "name": "stderr",
          "text": [
            "[generated in 0.02448s] {}\n"
          ]
        },
        {
          "output_type": "stream",
          "name": "stdout",
          "text": [
            "2022-07-06 10:05:40,452 INFO sqlalchemy.engine.Engine SHOW FULL TABLES FROM `interview`\n"
          ]
        },
        {
          "output_type": "stream",
          "name": "stderr",
          "text": [
            "SHOW FULL TABLES FROM `interview`\n"
          ]
        },
        {
          "output_type": "stream",
          "name": "stdout",
          "text": [
            "2022-07-06 10:05:40,466 INFO sqlalchemy.engine.Engine [raw sql] {}\n"
          ]
        },
        {
          "output_type": "stream",
          "name": "stderr",
          "text": [
            "[raw sql] {}\n"
          ]
        },
        {
          "output_type": "stream",
          "name": "stdout",
          "text": [
            "2022-07-06 10:05:40,589 INFO sqlalchemy.engine.Engine SHOW FULL TABLES FROM `interview`\n"
          ]
        },
        {
          "output_type": "stream",
          "name": "stderr",
          "text": [
            "SHOW FULL TABLES FROM `interview`\n"
          ]
        },
        {
          "output_type": "stream",
          "name": "stdout",
          "text": [
            "2022-07-06 10:05:40,606 INFO sqlalchemy.engine.Engine [raw sql] {}\n"
          ]
        },
        {
          "output_type": "stream",
          "name": "stderr",
          "text": [
            "[raw sql] {}\n"
          ]
        },
        {
          "output_type": "stream",
          "name": "stdout",
          "text": [
            "2022-07-06 10:05:40,721 INFO sqlalchemy.engine.Engine SHOW CREATE TABLE `microsoft_clickout_info`\n"
          ]
        },
        {
          "output_type": "stream",
          "name": "stderr",
          "text": [
            "SHOW CREATE TABLE `microsoft_clickout_info`\n"
          ]
        },
        {
          "output_type": "stream",
          "name": "stdout",
          "text": [
            "2022-07-06 10:05:40,735 INFO sqlalchemy.engine.Engine [raw sql] {}\n"
          ]
        },
        {
          "output_type": "stream",
          "name": "stderr",
          "text": [
            "[raw sql] {}\n"
          ]
        },
        {
          "output_type": "stream",
          "name": "stdout",
          "text": [
            "2022-07-06 10:05:40,951 INFO sqlalchemy.engine.Engine SELECT microsoft_clickout_info.id, microsoft_clickout_info.clickout_id, microsoft_clickout_info.microsoft_click_id \n",
            "FROM microsoft_clickout_info\n"
          ]
        },
        {
          "output_type": "stream",
          "name": "stderr",
          "text": [
            "SELECT microsoft_clickout_info.id, microsoft_clickout_info.clickout_id, microsoft_clickout_info.microsoft_click_id \n",
            "FROM microsoft_clickout_info\n"
          ]
        },
        {
          "output_type": "stream",
          "name": "stdout",
          "text": [
            "2022-07-06 10:05:40,968 INFO sqlalchemy.engine.Engine [generated in 0.01622s] {}\n"
          ]
        },
        {
          "output_type": "stream",
          "name": "stderr",
          "text": [
            "[generated in 0.01622s] {}\n"
          ]
        },
        {
          "output_type": "stream",
          "name": "stdout",
          "text": [
            "2022-07-06 10:05:41,518 INFO sqlalchemy.engine.Engine SHOW FULL TABLES FROM `interview`\n"
          ]
        },
        {
          "output_type": "stream",
          "name": "stderr",
          "text": [
            "SHOW FULL TABLES FROM `interview`\n"
          ]
        },
        {
          "output_type": "stream",
          "name": "stdout",
          "text": [
            "2022-07-06 10:05:41,523 INFO sqlalchemy.engine.Engine [raw sql] {}\n"
          ]
        },
        {
          "output_type": "stream",
          "name": "stderr",
          "text": [
            "[raw sql] {}\n"
          ]
        },
        {
          "output_type": "stream",
          "name": "stdout",
          "text": [
            "2022-07-06 10:05:41,637 INFO sqlalchemy.engine.Engine SHOW FULL TABLES FROM `interview`\n"
          ]
        },
        {
          "output_type": "stream",
          "name": "stderr",
          "text": [
            "SHOW FULL TABLES FROM `interview`\n"
          ]
        },
        {
          "output_type": "stream",
          "name": "stdout",
          "text": [
            "2022-07-06 10:05:41,642 INFO sqlalchemy.engine.Engine [raw sql] {}\n"
          ]
        },
        {
          "output_type": "stream",
          "name": "stderr",
          "text": [
            "[raw sql] {}\n"
          ]
        },
        {
          "output_type": "stream",
          "name": "stdout",
          "text": [
            "2022-07-06 10:05:41,746 INFO sqlalchemy.engine.Engine SHOW CREATE TABLE `product`\n"
          ]
        },
        {
          "output_type": "stream",
          "name": "stderr",
          "text": [
            "SHOW CREATE TABLE `product`\n"
          ]
        },
        {
          "output_type": "stream",
          "name": "stdout",
          "text": [
            "2022-07-06 10:05:41,751 INFO sqlalchemy.engine.Engine [raw sql] {}\n"
          ]
        },
        {
          "output_type": "stream",
          "name": "stderr",
          "text": [
            "[raw sql] {}\n"
          ]
        },
        {
          "output_type": "stream",
          "name": "stdout",
          "text": [
            "2022-07-06 10:05:41,862 INFO sqlalchemy.engine.Engine \n",
            "                    select table_schema, table_name, column_name\n",
            "                    from information_schema.columns\n",
            "                    where (table_schema, table_name, lower(column_name)) in\n",
            "                    ((%(table_data_1_1)s, %(table_data_1_2)s, %(table_data_1_3)s));\n",
            "                \n"
          ]
        },
        {
          "output_type": "stream",
          "name": "stderr",
          "text": [
            "\n",
            "                    select table_schema, table_name, column_name\n",
            "                    from information_schema.columns\n",
            "                    where (table_schema, table_name, lower(column_name)) in\n",
            "                    ((%(table_data_1_1)s, %(table_data_1_2)s, %(table_data_1_3)s));\n",
            "                \n"
          ]
        },
        {
          "output_type": "stream",
          "name": "stdout",
          "text": [
            "2022-07-06 10:05:41,867 INFO sqlalchemy.engine.Engine [cached since 14.53s ago] {'table_data_1_1': 'interview', 'table_data_1_2': 'vendor', 'table_data_1_3': 'id'}\n"
          ]
        },
        {
          "output_type": "stream",
          "name": "stderr",
          "text": [
            "[cached since 14.53s ago] {'table_data_1_1': 'interview', 'table_data_1_2': 'vendor', 'table_data_1_3': 'id'}\n"
          ]
        },
        {
          "output_type": "stream",
          "name": "stdout",
          "text": [
            "2022-07-06 10:05:41,969 INFO sqlalchemy.engine.Engine SHOW CREATE TABLE `vendor`\n"
          ]
        },
        {
          "output_type": "stream",
          "name": "stderr",
          "text": [
            "SHOW CREATE TABLE `vendor`\n"
          ]
        },
        {
          "output_type": "stream",
          "name": "stdout",
          "text": [
            "2022-07-06 10:05:41,982 INFO sqlalchemy.engine.Engine [raw sql] {}\n"
          ]
        },
        {
          "output_type": "stream",
          "name": "stderr",
          "text": [
            "[raw sql] {}\n"
          ]
        },
        {
          "output_type": "stream",
          "name": "stdout",
          "text": [
            "2022-07-06 10:05:42,190 INFO sqlalchemy.engine.Engine SELECT product.id, product.vendor_id, product.product_name \n",
            "FROM product\n"
          ]
        },
        {
          "output_type": "stream",
          "name": "stderr",
          "text": [
            "SELECT product.id, product.vendor_id, product.product_name \n",
            "FROM product\n"
          ]
        },
        {
          "output_type": "stream",
          "name": "stdout",
          "text": [
            "2022-07-06 10:05:42,199 INFO sqlalchemy.engine.Engine [generated in 0.00900s] {}\n"
          ]
        },
        {
          "output_type": "stream",
          "name": "stderr",
          "text": [
            "[generated in 0.00900s] {}\n"
          ]
        },
        {
          "output_type": "stream",
          "name": "stdout",
          "text": [
            "2022-07-06 10:05:42,547 INFO sqlalchemy.engine.Engine SHOW FULL TABLES FROM `interview`\n"
          ]
        },
        {
          "output_type": "stream",
          "name": "stderr",
          "text": [
            "SHOW FULL TABLES FROM `interview`\n"
          ]
        },
        {
          "output_type": "stream",
          "name": "stdout",
          "text": [
            "2022-07-06 10:05:42,550 INFO sqlalchemy.engine.Engine [raw sql] {}\n"
          ]
        },
        {
          "output_type": "stream",
          "name": "stderr",
          "text": [
            "[raw sql] {}\n"
          ]
        },
        {
          "output_type": "stream",
          "name": "stdout",
          "text": [
            "2022-07-06 10:05:42,654 INFO sqlalchemy.engine.Engine SHOW FULL TABLES FROM `interview`\n"
          ]
        },
        {
          "output_type": "stream",
          "name": "stderr",
          "text": [
            "SHOW FULL TABLES FROM `interview`\n"
          ]
        },
        {
          "output_type": "stream",
          "name": "stdout",
          "text": [
            "2022-07-06 10:05:42,663 INFO sqlalchemy.engine.Engine [raw sql] {}\n"
          ]
        },
        {
          "output_type": "stream",
          "name": "stderr",
          "text": [
            "[raw sql] {}\n"
          ]
        },
        {
          "output_type": "stream",
          "name": "stdout",
          "text": [
            "2022-07-06 10:05:42,776 INFO sqlalchemy.engine.Engine SHOW CREATE TABLE `sale`\n"
          ]
        },
        {
          "output_type": "stream",
          "name": "stderr",
          "text": [
            "SHOW CREATE TABLE `sale`\n"
          ]
        },
        {
          "output_type": "stream",
          "name": "stdout",
          "text": [
            "2022-07-06 10:05:42,786 INFO sqlalchemy.engine.Engine [raw sql] {}\n"
          ]
        },
        {
          "output_type": "stream",
          "name": "stderr",
          "text": [
            "[raw sql] {}\n"
          ]
        },
        {
          "output_type": "stream",
          "name": "stdout",
          "text": [
            "2022-07-06 10:05:42,901 INFO sqlalchemy.engine.Engine \n",
            "                    select table_schema, table_name, column_name\n",
            "                    from information_schema.columns\n",
            "                    where (table_schema, table_name, lower(column_name)) in\n",
            "                    ((%(table_data_1_1)s, %(table_data_1_2)s, %(table_data_1_3)s));\n",
            "                \n"
          ]
        },
        {
          "output_type": "stream",
          "name": "stderr",
          "text": [
            "\n",
            "                    select table_schema, table_name, column_name\n",
            "                    from information_schema.columns\n",
            "                    where (table_schema, table_name, lower(column_name)) in\n",
            "                    ((%(table_data_1_1)s, %(table_data_1_2)s, %(table_data_1_3)s));\n",
            "                \n"
          ]
        },
        {
          "output_type": "stream",
          "name": "stdout",
          "text": [
            "2022-07-06 10:05:42,905 INFO sqlalchemy.engine.Engine [cached since 15.57s ago] {'table_data_1_1': 'interview', 'table_data_1_2': 'currency', 'table_data_1_3': 'id'}\n"
          ]
        },
        {
          "output_type": "stream",
          "name": "stderr",
          "text": [
            "[cached since 15.57s ago] {'table_data_1_1': 'interview', 'table_data_1_2': 'currency', 'table_data_1_3': 'id'}\n"
          ]
        },
        {
          "output_type": "stream",
          "name": "stdout",
          "text": [
            "2022-07-06 10:05:43,022 INFO sqlalchemy.engine.Engine SHOW CREATE TABLE `currency`\n"
          ]
        },
        {
          "output_type": "stream",
          "name": "stderr",
          "text": [
            "SHOW CREATE TABLE `currency`\n"
          ]
        },
        {
          "output_type": "stream",
          "name": "stdout",
          "text": [
            "2022-07-06 10:05:43,034 INFO sqlalchemy.engine.Engine [raw sql] {}\n"
          ]
        },
        {
          "output_type": "stream",
          "name": "stderr",
          "text": [
            "[raw sql] {}\n"
          ]
        },
        {
          "output_type": "stream",
          "name": "stdout",
          "text": [
            "2022-07-06 10:05:43,252 INFO sqlalchemy.engine.Engine SELECT sale.id, sale.transaction_id, sale.status, sale.legacy_commission, sale.timestamp, sale.adspace, sale.program_name, sale.clickout_id, sale.submitted_at, sale.submitted_adwords_at, sale.clickout_uid, sale.source_commission_currency_id, sale.source_commission, sale.commission_eur \n",
            "FROM sale\n"
          ]
        },
        {
          "output_type": "stream",
          "name": "stderr",
          "text": [
            "SELECT sale.id, sale.transaction_id, sale.status, sale.legacy_commission, sale.timestamp, sale.adspace, sale.program_name, sale.clickout_id, sale.submitted_at, sale.submitted_adwords_at, sale.clickout_uid, sale.source_commission_currency_id, sale.source_commission, sale.commission_eur \n",
            "FROM sale\n"
          ]
        },
        {
          "output_type": "stream",
          "name": "stdout",
          "text": [
            "2022-07-06 10:05:43,256 INFO sqlalchemy.engine.Engine [generated in 0.00417s] {}\n"
          ]
        },
        {
          "output_type": "stream",
          "name": "stderr",
          "text": [
            "[generated in 0.00417s] {}\n"
          ]
        },
        {
          "output_type": "stream",
          "name": "stdout",
          "text": [
            "2022-07-06 10:05:44,487 INFO sqlalchemy.engine.Engine SHOW FULL TABLES FROM `interview`\n"
          ]
        },
        {
          "output_type": "stream",
          "name": "stderr",
          "text": [
            "SHOW FULL TABLES FROM `interview`\n"
          ]
        },
        {
          "output_type": "stream",
          "name": "stdout",
          "text": [
            "2022-07-06 10:05:44,491 INFO sqlalchemy.engine.Engine [raw sql] {}\n"
          ]
        },
        {
          "output_type": "stream",
          "name": "stderr",
          "text": [
            "[raw sql] {}\n"
          ]
        },
        {
          "output_type": "stream",
          "name": "stdout",
          "text": [
            "2022-07-06 10:05:44,595 INFO sqlalchemy.engine.Engine SHOW FULL TABLES FROM `interview`\n"
          ]
        },
        {
          "output_type": "stream",
          "name": "stderr",
          "text": [
            "SHOW FULL TABLES FROM `interview`\n"
          ]
        },
        {
          "output_type": "stream",
          "name": "stdout",
          "text": [
            "2022-07-06 10:05:44,598 INFO sqlalchemy.engine.Engine [raw sql] {}\n"
          ]
        },
        {
          "output_type": "stream",
          "name": "stderr",
          "text": [
            "[raw sql] {}\n"
          ]
        },
        {
          "output_type": "stream",
          "name": "stdout",
          "text": [
            "2022-07-06 10:05:44,702 INFO sqlalchemy.engine.Engine SHOW CREATE TABLE `sale_item`\n"
          ]
        },
        {
          "output_type": "stream",
          "name": "stderr",
          "text": [
            "SHOW CREATE TABLE `sale_item`\n"
          ]
        },
        {
          "output_type": "stream",
          "name": "stdout",
          "text": [
            "2022-07-06 10:05:44,706 INFO sqlalchemy.engine.Engine [raw sql] {}\n"
          ]
        },
        {
          "output_type": "stream",
          "name": "stderr",
          "text": [
            "[raw sql] {}\n"
          ]
        },
        {
          "output_type": "stream",
          "name": "stdout",
          "text": [
            "2022-07-06 10:05:44,812 INFO sqlalchemy.engine.Engine \n",
            "                    select table_schema, table_name, column_name\n",
            "                    from information_schema.columns\n",
            "                    where (table_schema, table_name, lower(column_name)) in\n",
            "                    ((%(table_data_1_1)s, %(table_data_1_2)s, %(table_data_1_3)s), (%(table_data_2_1)s, %(table_data_2_2)s, %(table_data_2_3)s), (%(table_data_3_1)s, %(table_data_3_2)s, %(table_data_3_3)s));\n",
            "                \n"
          ]
        },
        {
          "output_type": "stream",
          "name": "stderr",
          "text": [
            "\n",
            "                    select table_schema, table_name, column_name\n",
            "                    from information_schema.columns\n",
            "                    where (table_schema, table_name, lower(column_name)) in\n",
            "                    ((%(table_data_1_1)s, %(table_data_1_2)s, %(table_data_1_3)s), (%(table_data_2_1)s, %(table_data_2_2)s, %(table_data_2_3)s), (%(table_data_3_1)s, %(table_data_3_2)s, %(table_data_3_3)s));\n",
            "                \n"
          ]
        },
        {
          "output_type": "stream",
          "name": "stdout",
          "text": [
            "2022-07-06 10:05:44,817 INFO sqlalchemy.engine.Engine [cached since 17.48s ago] {'table_data_1_1': 'interview', 'table_data_1_2': 'sale', 'table_data_1_3': 'id', 'table_data_2_1': 'interview', 'table_data_2_2': 'currency', 'table_data_2_3': 'id', 'table_data_3_1': 'interview', 'table_data_3_2': 'currency', 'table_data_3_3': 'id'}\n"
          ]
        },
        {
          "output_type": "stream",
          "name": "stderr",
          "text": [
            "[cached since 17.48s ago] {'table_data_1_1': 'interview', 'table_data_1_2': 'sale', 'table_data_1_3': 'id', 'table_data_2_1': 'interview', 'table_data_2_2': 'currency', 'table_data_2_3': 'id', 'table_data_3_1': 'interview', 'table_data_3_2': 'currency', 'table_data_3_3': 'id'}\n"
          ]
        },
        {
          "output_type": "stream",
          "name": "stdout",
          "text": [
            "2022-07-06 10:05:44,929 INFO sqlalchemy.engine.Engine SHOW CREATE TABLE `sale`\n"
          ]
        },
        {
          "output_type": "stream",
          "name": "stderr",
          "text": [
            "SHOW CREATE TABLE `sale`\n"
          ]
        },
        {
          "output_type": "stream",
          "name": "stdout",
          "text": [
            "2022-07-06 10:05:44,933 INFO sqlalchemy.engine.Engine [raw sql] {}\n"
          ]
        },
        {
          "output_type": "stream",
          "name": "stderr",
          "text": [
            "[raw sql] {}\n"
          ]
        },
        {
          "output_type": "stream",
          "name": "stdout",
          "text": [
            "2022-07-06 10:05:45,042 INFO sqlalchemy.engine.Engine \n",
            "                    select table_schema, table_name, column_name\n",
            "                    from information_schema.columns\n",
            "                    where (table_schema, table_name, lower(column_name)) in\n",
            "                    ((%(table_data_1_1)s, %(table_data_1_2)s, %(table_data_1_3)s));\n",
            "                \n"
          ]
        },
        {
          "output_type": "stream",
          "name": "stderr",
          "text": [
            "\n",
            "                    select table_schema, table_name, column_name\n",
            "                    from information_schema.columns\n",
            "                    where (table_schema, table_name, lower(column_name)) in\n",
            "                    ((%(table_data_1_1)s, %(table_data_1_2)s, %(table_data_1_3)s));\n",
            "                \n"
          ]
        },
        {
          "output_type": "stream",
          "name": "stdout",
          "text": [
            "2022-07-06 10:05:45,048 INFO sqlalchemy.engine.Engine [cached since 17.71s ago] {'table_data_1_1': 'interview', 'table_data_1_2': 'currency', 'table_data_1_3': 'id'}\n"
          ]
        },
        {
          "output_type": "stream",
          "name": "stderr",
          "text": [
            "[cached since 17.71s ago] {'table_data_1_1': 'interview', 'table_data_1_2': 'currency', 'table_data_1_3': 'id'}\n"
          ]
        },
        {
          "output_type": "stream",
          "name": "stdout",
          "text": [
            "2022-07-06 10:05:45,153 INFO sqlalchemy.engine.Engine SHOW CREATE TABLE `currency`\n"
          ]
        },
        {
          "output_type": "stream",
          "name": "stderr",
          "text": [
            "SHOW CREATE TABLE `currency`\n"
          ]
        },
        {
          "output_type": "stream",
          "name": "stdout",
          "text": [
            "2022-07-06 10:05:45,158 INFO sqlalchemy.engine.Engine [raw sql] {}\n"
          ]
        },
        {
          "output_type": "stream",
          "name": "stderr",
          "text": [
            "[raw sql] {}\n"
          ]
        },
        {
          "output_type": "stream",
          "name": "stdout",
          "text": [
            "2022-07-06 10:05:45,363 INFO sqlalchemy.engine.Engine SELECT sale_item.id, sale_item.sale_id, sale_item.affiliate_product_key, sale_item.product_price, sale_item.quantity, sale_item.product_number, sale_item.product_name, sale_item.brand_name, sale_item.status, sale_item.legacy_commission, sale_item.submitted_at, sale_item.transaction_id, sale_item.source_commission_currency_id, sale_item.product_price_currency_id, sale_item.source_commission, sale_item.commission_eur, sale_item.conversion_value_eur \n",
            "FROM sale_item\n"
          ]
        },
        {
          "output_type": "stream",
          "name": "stderr",
          "text": [
            "SELECT sale_item.id, sale_item.sale_id, sale_item.affiliate_product_key, sale_item.product_price, sale_item.quantity, sale_item.product_number, sale_item.product_name, sale_item.brand_name, sale_item.status, sale_item.legacy_commission, sale_item.submitted_at, sale_item.transaction_id, sale_item.source_commission_currency_id, sale_item.product_price_currency_id, sale_item.source_commission, sale_item.commission_eur, sale_item.conversion_value_eur \n",
            "FROM sale_item\n"
          ]
        },
        {
          "output_type": "stream",
          "name": "stdout",
          "text": [
            "2022-07-06 10:05:45,371 INFO sqlalchemy.engine.Engine [generated in 0.00796s] {}\n"
          ]
        },
        {
          "output_type": "stream",
          "name": "stderr",
          "text": [
            "[generated in 0.00796s] {}\n"
          ]
        },
        {
          "output_type": "stream",
          "name": "stdout",
          "text": [
            "2022-07-06 10:05:46,357 INFO sqlalchemy.engine.Engine SHOW FULL TABLES FROM `interview`\n"
          ]
        },
        {
          "output_type": "stream",
          "name": "stderr",
          "text": [
            "SHOW FULL TABLES FROM `interview`\n"
          ]
        },
        {
          "output_type": "stream",
          "name": "stdout",
          "text": [
            "2022-07-06 10:05:46,366 INFO sqlalchemy.engine.Engine [raw sql] {}\n"
          ]
        },
        {
          "output_type": "stream",
          "name": "stderr",
          "text": [
            "[raw sql] {}\n"
          ]
        },
        {
          "output_type": "stream",
          "name": "stdout",
          "text": [
            "2022-07-06 10:05:46,469 INFO sqlalchemy.engine.Engine SHOW FULL TABLES FROM `interview`\n"
          ]
        },
        {
          "output_type": "stream",
          "name": "stderr",
          "text": [
            "SHOW FULL TABLES FROM `interview`\n"
          ]
        },
        {
          "output_type": "stream",
          "name": "stdout",
          "text": [
            "2022-07-06 10:05:46,476 INFO sqlalchemy.engine.Engine [raw sql] {}\n"
          ]
        },
        {
          "output_type": "stream",
          "name": "stderr",
          "text": [
            "[raw sql] {}\n"
          ]
        },
        {
          "output_type": "stream",
          "name": "stdout",
          "text": [
            "2022-07-06 10:05:46,584 INFO sqlalchemy.engine.Engine SHOW CREATE TABLE `tracking_dimension`\n"
          ]
        },
        {
          "output_type": "stream",
          "name": "stderr",
          "text": [
            "SHOW CREATE TABLE `tracking_dimension`\n"
          ]
        },
        {
          "output_type": "stream",
          "name": "stdout",
          "text": [
            "2022-07-06 10:05:46,587 INFO sqlalchemy.engine.Engine [raw sql] {}\n"
          ]
        },
        {
          "output_type": "stream",
          "name": "stderr",
          "text": [
            "[raw sql] {}\n"
          ]
        },
        {
          "output_type": "stream",
          "name": "stdout",
          "text": [
            "2022-07-06 10:05:46,794 INFO sqlalchemy.engine.Engine SELECT tracking_dimension.id, tracking_dimension.name, tracking_dimension.choices \n",
            "FROM tracking_dimension\n"
          ]
        },
        {
          "output_type": "stream",
          "name": "stderr",
          "text": [
            "SELECT tracking_dimension.id, tracking_dimension.name, tracking_dimension.choices \n",
            "FROM tracking_dimension\n"
          ]
        },
        {
          "output_type": "stream",
          "name": "stdout",
          "text": [
            "2022-07-06 10:05:46,798 INFO sqlalchemy.engine.Engine [generated in 0.00405s] {}\n"
          ]
        },
        {
          "output_type": "stream",
          "name": "stderr",
          "text": [
            "[generated in 0.00405s] {}\n"
          ]
        },
        {
          "output_type": "stream",
          "name": "stdout",
          "text": [
            "2022-07-06 10:05:47,099 INFO sqlalchemy.engine.Engine SHOW FULL TABLES FROM `interview`\n"
          ]
        },
        {
          "output_type": "stream",
          "name": "stderr",
          "text": [
            "SHOW FULL TABLES FROM `interview`\n"
          ]
        },
        {
          "output_type": "stream",
          "name": "stdout",
          "text": [
            "2022-07-06 10:05:47,103 INFO sqlalchemy.engine.Engine [raw sql] {}\n"
          ]
        },
        {
          "output_type": "stream",
          "name": "stderr",
          "text": [
            "[raw sql] {}\n"
          ]
        },
        {
          "output_type": "stream",
          "name": "stdout",
          "text": [
            "2022-07-06 10:05:47,205 INFO sqlalchemy.engine.Engine SHOW FULL TABLES FROM `interview`\n"
          ]
        },
        {
          "output_type": "stream",
          "name": "stderr",
          "text": [
            "SHOW FULL TABLES FROM `interview`\n"
          ]
        },
        {
          "output_type": "stream",
          "name": "stdout",
          "text": [
            "2022-07-06 10:05:47,211 INFO sqlalchemy.engine.Engine [raw sql] {}\n"
          ]
        },
        {
          "output_type": "stream",
          "name": "stderr",
          "text": [
            "[raw sql] {}\n"
          ]
        },
        {
          "output_type": "stream",
          "name": "stdout",
          "text": [
            "2022-07-06 10:05:47,315 INFO sqlalchemy.engine.Engine SHOW CREATE TABLE `vendor`\n"
          ]
        },
        {
          "output_type": "stream",
          "name": "stderr",
          "text": [
            "SHOW CREATE TABLE `vendor`\n"
          ]
        },
        {
          "output_type": "stream",
          "name": "stdout",
          "text": [
            "2022-07-06 10:05:47,320 INFO sqlalchemy.engine.Engine [raw sql] {}\n"
          ]
        },
        {
          "output_type": "stream",
          "name": "stderr",
          "text": [
            "[raw sql] {}\n"
          ]
        },
        {
          "output_type": "stream",
          "name": "stdout",
          "text": [
            "2022-07-06 10:05:47,520 INFO sqlalchemy.engine.Engine SELECT vendor.id, vendor.name \n",
            "FROM vendor\n"
          ]
        },
        {
          "output_type": "stream",
          "name": "stderr",
          "text": [
            "SELECT vendor.id, vendor.name \n",
            "FROM vendor\n"
          ]
        },
        {
          "output_type": "stream",
          "name": "stdout",
          "text": [
            "2022-07-06 10:05:47,525 INFO sqlalchemy.engine.Engine [generated in 0.00478s] {}\n"
          ]
        },
        {
          "output_type": "stream",
          "name": "stderr",
          "text": [
            "[generated in 0.00478s] {}\n"
          ]
        }
      ],
      "source": [
        "tables = engine.table_names()\n",
        "\n",
        "#creating the dictionary of dataframes\n",
        "df_dict = {}\n",
        "for table in tables:\n",
        "  #loading database tables in dataframes\n",
        "  df_dict[table] = pd.read_sql_table(table, con=engine)\n",
        "\n"
      ]
    },
    {
      "cell_type": "code",
      "execution_count": 48,
      "metadata": {
        "colab": {
          "base_uri": "https://localhost:8080/"
        },
        "id": "Z7K2wkJ17gPH",
        "outputId": "2a9a4de7-1622-468e-eac2-2f4d08aa6efc"
      },
      "outputs": [
        {
          "output_type": "stream",
          "name": "stdout",
          "text": [
            "Looking in indexes: https://pypi.org/simple, https://us-python.pkg.dev/colab-wheels/public/simple/\n",
            "Requirement already satisfied: sqlalchemy_schemadisplay in /usr/local/lib/python3.7/dist-packages (1.3)\n",
            "Requirement already satisfied: setuptools in /usr/local/lib/python3.7/dist-packages (from sqlalchemy_schemadisplay) (57.4.0)\n",
            "Requirement already satisfied: pydot in /usr/local/lib/python3.7/dist-packages (from sqlalchemy_schemadisplay) (1.3.0)\n",
            "Requirement already satisfied: pyparsing>=2.1.4 in /usr/local/lib/python3.7/dist-packages (from pydot->sqlalchemy_schemadisplay) (3.0.9)\n"
          ]
        }
      ],
      "source": [
        "!pip install sqlalchemy_schemadisplay"
      ]
    },
    {
      "cell_type": "code",
      "execution_count": 49,
      "metadata": {
        "colab": {
          "base_uri": "https://localhost:8080/"
        },
        "id": "pUyxUC_P8Cat",
        "outputId": "8362ddb2-ccd6-4396-b61f-74e1df67c3fe"
      },
      "outputs": [
        {
          "output_type": "stream",
          "name": "stdout",
          "text": [
            "Looking in indexes: https://pypi.org/simple, https://us-python.pkg.dev/colab-wheels/public/simple/\n",
            "Requirement already satisfied: pydot in /usr/local/lib/python3.7/dist-packages (1.3.0)\n",
            "Requirement already satisfied: pyparsing>=2.1.4 in /usr/local/lib/python3.7/dist-packages (from pydot) (3.0.9)\n"
          ]
        }
      ],
      "source": [
        "!pip install pydot "
      ]
    },
    {
      "cell_type": "code",
      "execution_count": 50,
      "metadata": {
        "colab": {
          "base_uri": "https://localhost:8080/"
        },
        "id": "W2NA_zZj8KN_",
        "outputId": "c5a01c34-aba7-40fb-caf8-88a27ca4ba77"
      },
      "outputs": [
        {
          "output_type": "stream",
          "name": "stdout",
          "text": [
            "Looking in indexes: https://pypi.org/simple, https://us-python.pkg.dev/colab-wheels/public/simple/\n",
            "Requirement already satisfied: graphviz in /usr/local/lib/python3.7/dist-packages (0.10.1)\n"
          ]
        }
      ],
      "source": [
        "!pip install graphviz"
      ]
    },
    {
      "cell_type": "code",
      "execution_count": 51,
      "metadata": {
        "colab": {
          "base_uri": "https://localhost:8080/"
        },
        "id": "t8IQk_Qm7M0f",
        "outputId": "06a0ab61-1e10-4e7d-d0e7-0a7ef5c977b4"
      },
      "outputs": [
        {
          "output_type": "stream",
          "name": "stdout",
          "text": [
            "2022-07-06 10:06:02,212 INFO sqlalchemy.engine.Engine SHOW FULL TABLES FROM `interview`\n"
          ]
        },
        {
          "output_type": "stream",
          "name": "stderr",
          "text": [
            "SHOW FULL TABLES FROM `interview`\n"
          ]
        },
        {
          "output_type": "stream",
          "name": "stdout",
          "text": [
            "2022-07-06 10:06:02,222 INFO sqlalchemy.engine.Engine [raw sql] {}\n"
          ]
        },
        {
          "output_type": "stream",
          "name": "stderr",
          "text": [
            "[raw sql] {}\n"
          ]
        },
        {
          "output_type": "stream",
          "name": "stdout",
          "text": [
            "2022-07-06 10:06:02,338 INFO sqlalchemy.engine.Engine SHOW CREATE TABLE `affiliate_product_reference`\n"
          ]
        },
        {
          "output_type": "stream",
          "name": "stderr",
          "text": [
            "SHOW CREATE TABLE `affiliate_product_reference`\n"
          ]
        },
        {
          "output_type": "stream",
          "name": "stdout",
          "text": [
            "2022-07-06 10:06:02,345 INFO sqlalchemy.engine.Engine [raw sql] {}\n"
          ]
        },
        {
          "output_type": "stream",
          "name": "stderr",
          "text": [
            "[raw sql] {}\n"
          ]
        },
        {
          "output_type": "stream",
          "name": "stdout",
          "text": [
            "2022-07-06 10:06:02,452 INFO sqlalchemy.engine.Engine \n",
            "                    select table_schema, table_name, column_name\n",
            "                    from information_schema.columns\n",
            "                    where (table_schema, table_name, lower(column_name)) in\n",
            "                    ((%(table_data_1_1)s, %(table_data_1_2)s, %(table_data_1_3)s));\n",
            "                \n"
          ]
        },
        {
          "output_type": "stream",
          "name": "stderr",
          "text": [
            "\n",
            "                    select table_schema, table_name, column_name\n",
            "                    from information_schema.columns\n",
            "                    where (table_schema, table_name, lower(column_name)) in\n",
            "                    ((%(table_data_1_1)s, %(table_data_1_2)s, %(table_data_1_3)s));\n",
            "                \n"
          ]
        },
        {
          "output_type": "stream",
          "name": "stdout",
          "text": [
            "2022-07-06 10:06:02,461 INFO sqlalchemy.engine.Engine [cached since 35.13s ago] {'table_data_1_1': 'interview', 'table_data_1_2': 'product', 'table_data_1_3': 'id'}\n"
          ]
        },
        {
          "output_type": "stream",
          "name": "stderr",
          "text": [
            "[cached since 35.13s ago] {'table_data_1_1': 'interview', 'table_data_1_2': 'product', 'table_data_1_3': 'id'}\n"
          ]
        },
        {
          "output_type": "stream",
          "name": "stdout",
          "text": [
            "2022-07-06 10:06:02,570 INFO sqlalchemy.engine.Engine SHOW CREATE TABLE `product`\n"
          ]
        },
        {
          "output_type": "stream",
          "name": "stderr",
          "text": [
            "SHOW CREATE TABLE `product`\n"
          ]
        },
        {
          "output_type": "stream",
          "name": "stdout",
          "text": [
            "2022-07-06 10:06:02,576 INFO sqlalchemy.engine.Engine [raw sql] {}\n"
          ]
        },
        {
          "output_type": "stream",
          "name": "stderr",
          "text": [
            "[raw sql] {}\n"
          ]
        },
        {
          "output_type": "stream",
          "name": "stdout",
          "text": [
            "2022-07-06 10:06:02,682 INFO sqlalchemy.engine.Engine \n",
            "                    select table_schema, table_name, column_name\n",
            "                    from information_schema.columns\n",
            "                    where (table_schema, table_name, lower(column_name)) in\n",
            "                    ((%(table_data_1_1)s, %(table_data_1_2)s, %(table_data_1_3)s));\n",
            "                \n"
          ]
        },
        {
          "output_type": "stream",
          "name": "stderr",
          "text": [
            "\n",
            "                    select table_schema, table_name, column_name\n",
            "                    from information_schema.columns\n",
            "                    where (table_schema, table_name, lower(column_name)) in\n",
            "                    ((%(table_data_1_1)s, %(table_data_1_2)s, %(table_data_1_3)s));\n",
            "                \n"
          ]
        },
        {
          "output_type": "stream",
          "name": "stdout",
          "text": [
            "2022-07-06 10:06:02,694 INFO sqlalchemy.engine.Engine [cached since 35.36s ago] {'table_data_1_1': 'interview', 'table_data_1_2': 'vendor', 'table_data_1_3': 'id'}\n"
          ]
        },
        {
          "output_type": "stream",
          "name": "stderr",
          "text": [
            "[cached since 35.36s ago] {'table_data_1_1': 'interview', 'table_data_1_2': 'vendor', 'table_data_1_3': 'id'}\n"
          ]
        },
        {
          "output_type": "stream",
          "name": "stdout",
          "text": [
            "2022-07-06 10:06:02,806 INFO sqlalchemy.engine.Engine SHOW CREATE TABLE `vendor`\n"
          ]
        },
        {
          "output_type": "stream",
          "name": "stderr",
          "text": [
            "SHOW CREATE TABLE `vendor`\n"
          ]
        },
        {
          "output_type": "stream",
          "name": "stdout",
          "text": [
            "2022-07-06 10:06:02,814 INFO sqlalchemy.engine.Engine [raw sql] {}\n"
          ]
        },
        {
          "output_type": "stream",
          "name": "stderr",
          "text": [
            "[raw sql] {}\n"
          ]
        },
        {
          "output_type": "stream",
          "name": "stdout",
          "text": [
            "2022-07-06 10:06:02,923 INFO sqlalchemy.engine.Engine SHOW CREATE TABLE `clickout`\n"
          ]
        },
        {
          "output_type": "stream",
          "name": "stderr",
          "text": [
            "SHOW CREATE TABLE `clickout`\n"
          ]
        },
        {
          "output_type": "stream",
          "name": "stdout",
          "text": [
            "2022-07-06 10:06:02,928 INFO sqlalchemy.engine.Engine [raw sql] {}\n"
          ]
        },
        {
          "output_type": "stream",
          "name": "stderr",
          "text": [
            "[raw sql] {}\n"
          ]
        },
        {
          "output_type": "stream",
          "name": "stdout",
          "text": [
            "2022-07-06 10:06:03,038 INFO sqlalchemy.engine.Engine \n",
            "                    select table_schema, table_name, column_name\n",
            "                    from information_schema.columns\n",
            "                    where (table_schema, table_name, lower(column_name)) in\n",
            "                    ((%(table_data_1_1)s, %(table_data_1_2)s, %(table_data_1_3)s));\n",
            "                \n"
          ]
        },
        {
          "output_type": "stream",
          "name": "stderr",
          "text": [
            "\n",
            "                    select table_schema, table_name, column_name\n",
            "                    from information_schema.columns\n",
            "                    where (table_schema, table_name, lower(column_name)) in\n",
            "                    ((%(table_data_1_1)s, %(table_data_1_2)s, %(table_data_1_3)s));\n",
            "                \n"
          ]
        },
        {
          "output_type": "stream",
          "name": "stdout",
          "text": [
            "2022-07-06 10:06:03,043 INFO sqlalchemy.engine.Engine [cached since 35.71s ago] {'table_data_1_1': 'interview', 'table_data_1_2': 'creative', 'table_data_1_3': 'id'}\n"
          ]
        },
        {
          "output_type": "stream",
          "name": "stderr",
          "text": [
            "[cached since 35.71s ago] {'table_data_1_1': 'interview', 'table_data_1_2': 'creative', 'table_data_1_3': 'id'}\n"
          ]
        },
        {
          "output_type": "stream",
          "name": "stdout",
          "text": [
            "2022-07-06 10:06:03,147 INFO sqlalchemy.engine.Engine SHOW CREATE TABLE `creative`\n"
          ]
        },
        {
          "output_type": "stream",
          "name": "stderr",
          "text": [
            "SHOW CREATE TABLE `creative`\n"
          ]
        },
        {
          "output_type": "stream",
          "name": "stdout",
          "text": [
            "2022-07-06 10:06:03,151 INFO sqlalchemy.engine.Engine [raw sql] {}\n"
          ]
        },
        {
          "output_type": "stream",
          "name": "stderr",
          "text": [
            "[raw sql] {}\n"
          ]
        },
        {
          "output_type": "stream",
          "name": "stdout",
          "text": [
            "2022-07-06 10:06:03,254 INFO sqlalchemy.engine.Engine \n",
            "                    select table_schema, table_name, column_name\n",
            "                    from information_schema.columns\n",
            "                    where (table_schema, table_name, lower(column_name)) in\n",
            "                    ((%(table_data_1_1)s, %(table_data_1_2)s, %(table_data_1_3)s));\n",
            "                \n"
          ]
        },
        {
          "output_type": "stream",
          "name": "stderr",
          "text": [
            "\n",
            "                    select table_schema, table_name, column_name\n",
            "                    from information_schema.columns\n",
            "                    where (table_schema, table_name, lower(column_name)) in\n",
            "                    ((%(table_data_1_1)s, %(table_data_1_2)s, %(table_data_1_3)s));\n",
            "                \n"
          ]
        },
        {
          "output_type": "stream",
          "name": "stdout",
          "text": [
            "2022-07-06 10:06:03,257 INFO sqlalchemy.engine.Engine [cached since 35.92s ago] {'table_data_1_1': 'interview', 'table_data_1_2': 'product', 'table_data_1_3': 'id'}\n"
          ]
        },
        {
          "output_type": "stream",
          "name": "stderr",
          "text": [
            "[cached since 35.92s ago] {'table_data_1_1': 'interview', 'table_data_1_2': 'product', 'table_data_1_3': 'id'}\n"
          ]
        },
        {
          "output_type": "stream",
          "name": "stdout",
          "text": [
            "2022-07-06 10:06:03,363 INFO sqlalchemy.engine.Engine SHOW CREATE TABLE `currency`\n"
          ]
        },
        {
          "output_type": "stream",
          "name": "stderr",
          "text": [
            "SHOW CREATE TABLE `currency`\n"
          ]
        },
        {
          "output_type": "stream",
          "name": "stdout",
          "text": [
            "2022-07-06 10:06:03,368 INFO sqlalchemy.engine.Engine [raw sql] {}\n"
          ]
        },
        {
          "output_type": "stream",
          "name": "stderr",
          "text": [
            "[raw sql] {}\n"
          ]
        },
        {
          "output_type": "stream",
          "name": "stdout",
          "text": [
            "2022-07-06 10:06:03,476 INFO sqlalchemy.engine.Engine SHOW CREATE TABLE `domain`\n"
          ]
        },
        {
          "output_type": "stream",
          "name": "stderr",
          "text": [
            "SHOW CREATE TABLE `domain`\n"
          ]
        },
        {
          "output_type": "stream",
          "name": "stdout",
          "text": [
            "2022-07-06 10:06:03,479 INFO sqlalchemy.engine.Engine [raw sql] {}\n"
          ]
        },
        {
          "output_type": "stream",
          "name": "stderr",
          "text": [
            "[raw sql] {}\n"
          ]
        },
        {
          "output_type": "stream",
          "name": "stdout",
          "text": [
            "2022-07-06 10:06:03,588 INFO sqlalchemy.engine.Engine SHOW CREATE TABLE `microsoft_clickout_info`\n"
          ]
        },
        {
          "output_type": "stream",
          "name": "stderr",
          "text": [
            "SHOW CREATE TABLE `microsoft_clickout_info`\n"
          ]
        },
        {
          "output_type": "stream",
          "name": "stdout",
          "text": [
            "2022-07-06 10:06:03,591 INFO sqlalchemy.engine.Engine [raw sql] {}\n"
          ]
        },
        {
          "output_type": "stream",
          "name": "stderr",
          "text": [
            "[raw sql] {}\n"
          ]
        },
        {
          "output_type": "stream",
          "name": "stdout",
          "text": [
            "2022-07-06 10:06:03,697 INFO sqlalchemy.engine.Engine SHOW CREATE TABLE `sale`\n"
          ]
        },
        {
          "output_type": "stream",
          "name": "stderr",
          "text": [
            "SHOW CREATE TABLE `sale`\n"
          ]
        },
        {
          "output_type": "stream",
          "name": "stdout",
          "text": [
            "2022-07-06 10:06:03,700 INFO sqlalchemy.engine.Engine [raw sql] {}\n"
          ]
        },
        {
          "output_type": "stream",
          "name": "stderr",
          "text": [
            "[raw sql] {}\n"
          ]
        },
        {
          "output_type": "stream",
          "name": "stdout",
          "text": [
            "2022-07-06 10:06:03,806 INFO sqlalchemy.engine.Engine \n",
            "                    select table_schema, table_name, column_name\n",
            "                    from information_schema.columns\n",
            "                    where (table_schema, table_name, lower(column_name)) in\n",
            "                    ((%(table_data_1_1)s, %(table_data_1_2)s, %(table_data_1_3)s));\n",
            "                \n"
          ]
        },
        {
          "output_type": "stream",
          "name": "stderr",
          "text": [
            "\n",
            "                    select table_schema, table_name, column_name\n",
            "                    from information_schema.columns\n",
            "                    where (table_schema, table_name, lower(column_name)) in\n",
            "                    ((%(table_data_1_1)s, %(table_data_1_2)s, %(table_data_1_3)s));\n",
            "                \n"
          ]
        },
        {
          "output_type": "stream",
          "name": "stdout",
          "text": [
            "2022-07-06 10:06:03,810 INFO sqlalchemy.engine.Engine [cached since 36.47s ago] {'table_data_1_1': 'interview', 'table_data_1_2': 'currency', 'table_data_1_3': 'id'}\n"
          ]
        },
        {
          "output_type": "stream",
          "name": "stderr",
          "text": [
            "[cached since 36.47s ago] {'table_data_1_1': 'interview', 'table_data_1_2': 'currency', 'table_data_1_3': 'id'}\n"
          ]
        },
        {
          "output_type": "stream",
          "name": "stdout",
          "text": [
            "2022-07-06 10:06:03,912 INFO sqlalchemy.engine.Engine SHOW CREATE TABLE `sale_item`\n"
          ]
        },
        {
          "output_type": "stream",
          "name": "stderr",
          "text": [
            "SHOW CREATE TABLE `sale_item`\n"
          ]
        },
        {
          "output_type": "stream",
          "name": "stdout",
          "text": [
            "2022-07-06 10:06:03,918 INFO sqlalchemy.engine.Engine [raw sql] {}\n"
          ]
        },
        {
          "output_type": "stream",
          "name": "stderr",
          "text": [
            "[raw sql] {}\n"
          ]
        },
        {
          "output_type": "stream",
          "name": "stdout",
          "text": [
            "2022-07-06 10:06:04,023 INFO sqlalchemy.engine.Engine \n",
            "                    select table_schema, table_name, column_name\n",
            "                    from information_schema.columns\n",
            "                    where (table_schema, table_name, lower(column_name)) in\n",
            "                    ((%(table_data_1_1)s, %(table_data_1_2)s, %(table_data_1_3)s), (%(table_data_2_1)s, %(table_data_2_2)s, %(table_data_2_3)s), (%(table_data_3_1)s, %(table_data_3_2)s, %(table_data_3_3)s));\n",
            "                \n"
          ]
        },
        {
          "output_type": "stream",
          "name": "stderr",
          "text": [
            "\n",
            "                    select table_schema, table_name, column_name\n",
            "                    from information_schema.columns\n",
            "                    where (table_schema, table_name, lower(column_name)) in\n",
            "                    ((%(table_data_1_1)s, %(table_data_1_2)s, %(table_data_1_3)s), (%(table_data_2_1)s, %(table_data_2_2)s, %(table_data_2_3)s), (%(table_data_3_1)s, %(table_data_3_2)s, %(table_data_3_3)s));\n",
            "                \n"
          ]
        },
        {
          "output_type": "stream",
          "name": "stdout",
          "text": [
            "2022-07-06 10:06:04,039 INFO sqlalchemy.engine.Engine [cached since 36.7s ago] {'table_data_1_1': 'interview', 'table_data_1_2': 'sale', 'table_data_1_3': 'id', 'table_data_2_1': 'interview', 'table_data_2_2': 'currency', 'table_data_2_3': 'id', 'table_data_3_1': 'interview', 'table_data_3_2': 'currency', 'table_data_3_3': 'id'}\n"
          ]
        },
        {
          "output_type": "stream",
          "name": "stderr",
          "text": [
            "[cached since 36.7s ago] {'table_data_1_1': 'interview', 'table_data_1_2': 'sale', 'table_data_1_3': 'id', 'table_data_2_1': 'interview', 'table_data_2_2': 'currency', 'table_data_2_3': 'id', 'table_data_3_1': 'interview', 'table_data_3_2': 'currency', 'table_data_3_3': 'id'}\n"
          ]
        },
        {
          "output_type": "stream",
          "name": "stdout",
          "text": [
            "2022-07-06 10:06:04,162 INFO sqlalchemy.engine.Engine SHOW CREATE TABLE `tracking_dimension`\n"
          ]
        },
        {
          "output_type": "stream",
          "name": "stderr",
          "text": [
            "SHOW CREATE TABLE `tracking_dimension`\n"
          ]
        },
        {
          "output_type": "stream",
          "name": "stdout",
          "text": [
            "2022-07-06 10:06:04,172 INFO sqlalchemy.engine.Engine [raw sql] {}\n"
          ]
        },
        {
          "output_type": "stream",
          "name": "stderr",
          "text": [
            "[raw sql] {}\n"
          ]
        }
      ],
      "source": [
        "from sqlalchemy import MetaData\n",
        "from sqlalchemy_schemadisplay import create_schema_graph\n",
        "\n",
        "# create the pydot graph object by autoloading all tables via a bound metadata object\n",
        "graph = create_schema_graph(metadata=MetaData(engine),\n",
        "    show_datatypes=False, # The image would get nasty big if we'd show the datatypes\n",
        "    show_indexes=False, # ditto for indexes\n",
        "    rankdir='LR', # From left to right (instead of top to bottom)\n",
        "    concentrate=False # Don't try to join the relation lines together\n",
        ")\n",
        "graph.write_png('dbschema.png') # write out the file"
      ]
    },
    {
      "cell_type": "code",
      "execution_count": 52,
      "metadata": {
        "colab": {
          "base_uri": "https://localhost:8080/",
          "height": 1000
        },
        "id": "MHojMNKB9dgo",
        "outputId": "b0be6040-f04e-405d-b64c-1cfff9bed55f"
      },
      "outputs": [
        {
          "output_type": "execute_result",
          "data": {
            "text/plain": [
              "<IPython.core.display.Image object>"
            ],
            "image/png": "[encoded data removed]"
          },
          "metadata": {},
          "execution_count": 52
        }
      ],
      "source": [
        "from IPython import display\n",
        "\n",
        "display.Image('dbschema.png')"
      ]
    },
    {
      "cell_type": "markdown",
      "metadata": {
        "id": "4aAYZsoIdyVk"
      },
      "source": [
        "### Performing the EDA (Exploratory Data Analytics)"
      ]
    },
    {
      "cell_type": "code",
      "source": [
        "!pip install dataprep"
      ],
      "metadata": {
        "colab": {
          "base_uri": "https://localhost:8080/"
        },
        "id": "ondbNea_2SBf",
        "outputId": "d943501b-4f9e-4388-ff97-6e0cea9a2ee1"
      },
      "execution_count": 53,
      "outputs": [
        {
          "output_type": "stream",
          "name": "stdout",
          "text": [
            "Looking in indexes: https://pypi.org/simple, https://us-python.pkg.dev/colab-wheels/public/simple/\n",
            "Requirement already satisfied: dataprep in /usr/local/lib/python3.7/dist-packages (0.4.3)\n",
            "Requirement already satisfied: metaphone<0.7,>=0.6 in /usr/local/lib/python3.7/dist-packages (from dataprep) (0.6)\n",
            "Requirement already satisfied: dask[array,dataframe,delayed]<2022.0,>=2021.11 in /usr/local/lib/python3.7/dist-packages (from dataprep) (2021.12.0)\n",
            "Requirement already satisfied: ipywidgets<8.0,>=7.5 in /usr/local/lib/python3.7/dist-packages (from dataprep) (7.7.0)\n",
            "Requirement already satisfied: pydantic<2.0,>=1.6 in /usr/local/lib/python3.7/dist-packages (from dataprep) (1.8.2)\n",
            "Requirement already satisfied: varname<0.9.0,>=0.8.1 in /usr/local/lib/python3.7/dist-packages (from dataprep) (0.8.3)\n",
            "Requirement already satisfied: pandas<2.0,>=1.1 in /usr/local/lib/python3.7/dist-packages (from dataprep) (1.3.5)\n",
            "Requirement already satisfied: scipy<=1.7.1 in /usr/local/lib/python3.7/dist-packages (from dataprep) (1.4.1)\n",
            "Requirement already satisfied: pystache<0.7.0,>=0.6.0 in /usr/local/lib/python3.7/dist-packages (from dataprep) (0.6.0)\n",
            "Requirement already satisfied: wordcloud<2.0,>=1.8 in /usr/local/lib/python3.7/dist-packages (from dataprep) (1.8.2.2)\n",
            "Requirement already satisfied: flask<3,>=2 in /usr/local/lib/python3.7/dist-packages (from dataprep) (2.1.2)\n",
            "Requirement already satisfied: jsonpath-ng<2.0,>=1.5 in /usr/local/lib/python3.7/dist-packages (from dataprep) (1.5.3)\n",
            "Requirement already satisfied: tqdm<5.0,>=4.48 in /usr/local/lib/python3.7/dist-packages (from dataprep) (4.64.0)\n",
            "Requirement already satisfied: aiohttp<4.0,>=3.6 in /usr/local/lib/python3.7/dist-packages (from dataprep) (3.8.1)\n",
            "Requirement already satisfied: regex<2022.0.0,>=2021.8.3 in /usr/local/lib/python3.7/dist-packages (from dataprep) (2021.11.10)\n",
            "Requirement already satisfied: flask_cors<4.0.0,>=3.0.10 in /usr/local/lib/python3.7/dist-packages (from dataprep) (3.0.10)\n",
            "Requirement already satisfied: jinja2<4,>=3 in /usr/local/lib/python3.7/dist-packages (from dataprep) (3.1.2)\n",
            "Requirement already satisfied: numpy<2.0,>=1.21 in /usr/local/lib/python3.7/dist-packages (from dataprep) (1.21.6)\n",
            "Requirement already satisfied: sqlalchemy<2.0.0,>=1.4.32 in /usr/local/lib/python3.7/dist-packages (from dataprep) (1.4.37)\n",
            "Requirement already satisfied: nltk<4.0.0,>=3.6.7 in /usr/local/lib/python3.7/dist-packages (from dataprep) (3.7)\n",
            "Requirement already satisfied: python-Levenshtein<0.13.0,>=0.12.2 in /usr/local/lib/python3.7/dist-packages (from dataprep) (0.12.2)\n",
            "Requirement already satisfied: bokeh<3,>=2 in /usr/local/lib/python3.7/dist-packages (from dataprep) (2.3.3)\n",
            "Requirement already satisfied: python-stdnum<2.0,>=1.16 in /usr/local/lib/python3.7/dist-packages (from dataprep) (1.17)\n",
            "Requirement already satisfied: python-crfsuite<0.10.0,>=0.9.7 in /usr/local/lib/python3.7/dist-packages (from dataprep) (0.9.8)\n",
            "Requirement already satisfied: async-timeout<5.0,>=4.0.0a3 in /usr/local/lib/python3.7/dist-packages (from aiohttp<4.0,>=3.6->dataprep) (4.0.2)\n",
            "Requirement already satisfied: yarl<2.0,>=1.0 in /usr/local/lib/python3.7/dist-packages (from aiohttp<4.0,>=3.6->dataprep) (1.7.2)\n",
            "Requirement already satisfied: attrs>=17.3.0 in /usr/local/lib/python3.7/dist-packages (from aiohttp<4.0,>=3.6->dataprep) (21.4.0)\n",
            "Requirement already satisfied: charset-normalizer<3.0,>=2.0 in /usr/local/lib/python3.7/dist-packages (from aiohttp<4.0,>=3.6->dataprep) (2.0.12)\n",
            "Requirement already satisfied: typing-extensions>=3.7.4 in /usr/local/lib/python3.7/dist-packages (from aiohttp<4.0,>=3.6->dataprep) (4.1.1)\n",
            "Requirement already satisfied: frozenlist>=1.1.1 in /usr/local/lib/python3.7/dist-packages (from aiohttp<4.0,>=3.6->dataprep) (1.3.0)\n",
            "Requirement already satisfied: aiosignal>=1.1.2 in /usr/local/lib/python3.7/dist-packages (from aiohttp<4.0,>=3.6->dataprep) (1.2.0)\n",
            "Requirement already satisfied: asynctest==0.13.0 in /usr/local/lib/python3.7/dist-packages (from aiohttp<4.0,>=3.6->dataprep) (0.13.0)\n",
            "Requirement already satisfied: multidict<7.0,>=4.5 in /usr/local/lib/python3.7/dist-packages (from aiohttp<4.0,>=3.6->dataprep) (6.0.2)\n",
            "Requirement already satisfied: PyYAML>=3.10 in /usr/local/lib/python3.7/dist-packages (from bokeh<3,>=2->dataprep) (3.13)\n",
            "Requirement already satisfied: pillow>=7.1.0 in /usr/local/lib/python3.7/dist-packages (from bokeh<3,>=2->dataprep) (7.1.2)\n",
            "Requirement already satisfied: python-dateutil>=2.1 in /usr/local/lib/python3.7/dist-packages (from bokeh<3,>=2->dataprep) (2.8.2)\n",
            "Requirement already satisfied: packaging>=16.8 in /usr/local/lib/python3.7/dist-packages (from bokeh<3,>=2->dataprep) (21.3)\n",
            "Requirement already satisfied: tornado>=5.1 in /usr/local/lib/python3.7/dist-packages (from bokeh<3,>=2->dataprep) (5.1.1)\n",
            "Requirement already satisfied: partd>=0.3.10 in /usr/local/lib/python3.7/dist-packages (from dask[array,dataframe,delayed]<2022.0,>=2021.11->dataprep) (1.2.0)\n",
            "Requirement already satisfied: fsspec>=0.6.0 in /usr/local/lib/python3.7/dist-packages (from dask[array,dataframe,delayed]<2022.0,>=2021.11->dataprep) (2022.5.0)\n",
            "Requirement already satisfied: toolz>=0.8.2 in /usr/local/lib/python3.7/dist-packages (from dask[array,dataframe,delayed]<2022.0,>=2021.11->dataprep) (0.11.2)\n",
            "Requirement already satisfied: cloudpickle>=1.1.1 in /usr/local/lib/python3.7/dist-packages (from dask[array,dataframe,delayed]<2022.0,>=2021.11->dataprep) (1.3.0)\n",
            "Requirement already satisfied: itsdangerous>=2.0 in /usr/local/lib/python3.7/dist-packages (from flask<3,>=2->dataprep) (2.1.2)\n",
            "Requirement already satisfied: importlib-metadata>=3.6.0 in /usr/local/lib/python3.7/dist-packages (from flask<3,>=2->dataprep) (4.11.4)\n",
            "Requirement already satisfied: click>=8.0 in /usr/local/lib/python3.7/dist-packages (from flask<3,>=2->dataprep) (8.1.3)\n",
            "Requirement already satisfied: Werkzeug>=2.0 in /usr/local/lib/python3.7/dist-packages (from flask<3,>=2->dataprep) (2.1.2)\n",
            "Requirement already satisfied: Six in /usr/local/lib/python3.7/dist-packages (from flask_cors<4.0.0,>=3.0.10->dataprep) (1.15.0)\n",
            "Requirement already satisfied: zipp>=0.5 in /usr/local/lib/python3.7/dist-packages (from importlib-metadata>=3.6.0->flask<3,>=2->dataprep) (3.8.0)\n",
            "Requirement already satisfied: ipython>=4.0.0 in /usr/local/lib/python3.7/dist-packages (from ipywidgets<8.0,>=7.5->dataprep) (5.5.0)\n",
            "Requirement already satisfied: ipykernel>=4.5.1 in /usr/local/lib/python3.7/dist-packages (from ipywidgets<8.0,>=7.5->dataprep) (4.10.1)\n",
            "Requirement already satisfied: ipython-genutils~=0.2.0 in /usr/local/lib/python3.7/dist-packages (from ipywidgets<8.0,>=7.5->dataprep) (0.2.0)\n",
            "Requirement already satisfied: widgetsnbextension~=3.6.0 in /usr/local/lib/python3.7/dist-packages (from ipywidgets<8.0,>=7.5->dataprep) (3.6.0)\n",
            "Requirement already satisfied: jupyterlab-widgets>=1.0.0 in /usr/local/lib/python3.7/dist-packages (from ipywidgets<8.0,>=7.5->dataprep) (1.1.0)\n",
            "Requirement already satisfied: traitlets>=4.3.1 in /usr/local/lib/python3.7/dist-packages (from ipywidgets<8.0,>=7.5->dataprep) (5.1.1)\n",
            "Requirement already satisfied: nbformat>=4.2.0 in /usr/local/lib/python3.7/dist-packages (from ipywidgets<8.0,>=7.5->dataprep) (5.4.0)\n",
            "Requirement already satisfied: jupyter-client in /usr/local/lib/python3.7/dist-packages (from ipykernel>=4.5.1->ipywidgets<8.0,>=7.5->dataprep) (5.3.5)\n",
            "Requirement already satisfied: pygments in /usr/local/lib/python3.7/dist-packages (from ipython>=4.0.0->ipywidgets<8.0,>=7.5->dataprep) (2.6.1)\n",
            "Requirement already satisfied: decorator in /usr/local/lib/python3.7/dist-packages (from ipython>=4.0.0->ipywidgets<8.0,>=7.5->dataprep) (4.4.2)\n",
            "Requirement already satisfied: simplegeneric>0.8 in /usr/local/lib/python3.7/dist-packages (from ipython>=4.0.0->ipywidgets<8.0,>=7.5->dataprep) (0.8.1)\n",
            "Requirement already satisfied: pexpect in /usr/local/lib/python3.7/dist-packages (from ipython>=4.0.0->ipywidgets<8.0,>=7.5->dataprep) (4.8.0)\n",
            "Requirement already satisfied: prompt-toolkit<2.0.0,>=1.0.4 in /usr/local/lib/python3.7/dist-packages (from ipython>=4.0.0->ipywidgets<8.0,>=7.5->dataprep) (1.0.18)\n",
            "Requirement already satisfied: setuptools>=18.5 in /usr/local/lib/python3.7/dist-packages (from ipython>=4.0.0->ipywidgets<8.0,>=7.5->dataprep) (57.4.0)\n",
            "Requirement already satisfied: pickleshare in /usr/local/lib/python3.7/dist-packages (from ipython>=4.0.0->ipywidgets<8.0,>=7.5->dataprep) (0.7.5)\n",
            "Requirement already satisfied: MarkupSafe>=2.0 in /usr/local/lib/python3.7/dist-packages (from jinja2<4,>=3->dataprep) (2.0.1)\n",
            "Requirement already satisfied: ply in /usr/local/lib/python3.7/dist-packages (from jsonpath-ng<2.0,>=1.5->dataprep) (3.11)\n",
            "Requirement already satisfied: jupyter-core in /usr/local/lib/python3.7/dist-packages (from nbformat>=4.2.0->ipywidgets<8.0,>=7.5->dataprep) (4.10.0)\n",
            "Requirement already satisfied: fastjsonschema in /usr/local/lib/python3.7/dist-packages (from nbformat>=4.2.0->ipywidgets<8.0,>=7.5->dataprep) (2.15.3)\n",
            "Requirement already satisfied: jsonschema>=2.6 in /usr/local/lib/python3.7/dist-packages (from nbformat>=4.2.0->ipywidgets<8.0,>=7.5->dataprep) (4.3.3)\n",
            "Requirement already satisfied: importlib-resources>=1.4.0 in /usr/local/lib/python3.7/dist-packages (from jsonschema>=2.6->nbformat>=4.2.0->ipywidgets<8.0,>=7.5->dataprep) (5.7.1)\n",
            "Requirement already satisfied: pyrsistent!=0.17.0,!=0.17.1,!=0.17.2,>=0.14.0 in /usr/local/lib/python3.7/dist-packages (from jsonschema>=2.6->nbformat>=4.2.0->ipywidgets<8.0,>=7.5->dataprep) (0.18.1)\n",
            "Requirement already satisfied: joblib in /usr/local/lib/python3.7/dist-packages (from nltk<4.0.0,>=3.6.7->dataprep) (1.1.0)\n",
            "Requirement already satisfied: pyparsing!=3.0.5,>=2.0.2 in /usr/local/lib/python3.7/dist-packages (from packaging>=16.8->bokeh<3,>=2->dataprep) (3.0.9)\n",
            "Requirement already satisfied: pytz>=2017.3 in /usr/local/lib/python3.7/dist-packages (from pandas<2.0,>=1.1->dataprep) (2022.1)\n",
            "Requirement already satisfied: locket in /usr/local/lib/python3.7/dist-packages (from partd>=0.3.10->dask[array,dataframe,delayed]<2022.0,>=2021.11->dataprep) (1.0.0)\n",
            "Requirement already satisfied: wcwidth in /usr/local/lib/python3.7/dist-packages (from prompt-toolkit<2.0.0,>=1.0.4->ipython>=4.0.0->ipywidgets<8.0,>=7.5->dataprep) (0.2.5)\n",
            "Requirement already satisfied: greenlet!=0.4.17 in /usr/local/lib/python3.7/dist-packages (from sqlalchemy<2.0.0,>=1.4.32->dataprep) (1.1.2)\n",
            "Requirement already satisfied: asttokens<3.0.0,>=2.0.0 in /usr/local/lib/python3.7/dist-packages (from varname<0.9.0,>=0.8.1->dataprep) (2.0.5)\n",
            "Requirement already satisfied: executing<0.9.0,>=0.8.3 in /usr/local/lib/python3.7/dist-packages (from varname<0.9.0,>=0.8.1->dataprep) (0.8.3)\n",
            "Requirement already satisfied: pure_eval<1.0.0 in /usr/local/lib/python3.7/dist-packages (from varname<0.9.0,>=0.8.1->dataprep) (0.2.2)\n",
            "Requirement already satisfied: notebook>=4.4.1 in /usr/local/lib/python3.7/dist-packages (from widgetsnbextension~=3.6.0->ipywidgets<8.0,>=7.5->dataprep) (5.3.1)\n",
            "Requirement already satisfied: terminado>=0.8.1 in /usr/local/lib/python3.7/dist-packages (from notebook>=4.4.1->widgetsnbextension~=3.6.0->ipywidgets<8.0,>=7.5->dataprep) (0.13.3)\n",
            "Requirement already satisfied: Send2Trash in /usr/local/lib/python3.7/dist-packages (from notebook>=4.4.1->widgetsnbextension~=3.6.0->ipywidgets<8.0,>=7.5->dataprep) (1.8.0)\n",
            "Requirement already satisfied: nbconvert in /usr/local/lib/python3.7/dist-packages (from notebook>=4.4.1->widgetsnbextension~=3.6.0->ipywidgets<8.0,>=7.5->dataprep) (5.6.1)\n",
            "Requirement already satisfied: pyzmq>=13 in /usr/local/lib/python3.7/dist-packages (from jupyter-client->ipykernel>=4.5.1->ipywidgets<8.0,>=7.5->dataprep) (23.1.0)\n",
            "Requirement already satisfied: ptyprocess in /usr/local/lib/python3.7/dist-packages (from terminado>=0.8.1->notebook>=4.4.1->widgetsnbextension~=3.6.0->ipywidgets<8.0,>=7.5->dataprep) (0.7.0)\n",
            "Requirement already satisfied: matplotlib in /usr/local/lib/python3.7/dist-packages (from wordcloud<2.0,>=1.8->dataprep) (3.2.2)\n",
            "Requirement already satisfied: idna>=2.0 in /usr/local/lib/python3.7/dist-packages (from yarl<2.0,>=1.0->aiohttp<4.0,>=3.6->dataprep) (2.10)\n",
            "Requirement already satisfied: cycler>=0.10 in /usr/local/lib/python3.7/dist-packages (from matplotlib->wordcloud<2.0,>=1.8->dataprep) (0.11.0)\n",
            "Requirement already satisfied: kiwisolver>=1.0.1 in /usr/local/lib/python3.7/dist-packages (from matplotlib->wordcloud<2.0,>=1.8->dataprep) (1.4.3)\n",
            "Requirement already satisfied: mistune<2,>=0.8.1 in /usr/local/lib/python3.7/dist-packages (from nbconvert->notebook>=4.4.1->widgetsnbextension~=3.6.0->ipywidgets<8.0,>=7.5->dataprep) (0.8.4)\n",
            "Requirement already satisfied: bleach in /usr/local/lib/python3.7/dist-packages (from nbconvert->notebook>=4.4.1->widgetsnbextension~=3.6.0->ipywidgets<8.0,>=7.5->dataprep) (5.0.0)\n",
            "Requirement already satisfied: defusedxml in /usr/local/lib/python3.7/dist-packages (from nbconvert->notebook>=4.4.1->widgetsnbextension~=3.6.0->ipywidgets<8.0,>=7.5->dataprep) (0.7.1)\n",
            "Requirement already satisfied: entrypoints>=0.2.2 in /usr/local/lib/python3.7/dist-packages (from nbconvert->notebook>=4.4.1->widgetsnbextension~=3.6.0->ipywidgets<8.0,>=7.5->dataprep) (0.4)\n",
            "Requirement already satisfied: pandocfilters>=1.4.1 in /usr/local/lib/python3.7/dist-packages (from nbconvert->notebook>=4.4.1->widgetsnbextension~=3.6.0->ipywidgets<8.0,>=7.5->dataprep) (1.5.0)\n",
            "Requirement already satisfied: testpath in /usr/local/lib/python3.7/dist-packages (from nbconvert->notebook>=4.4.1->widgetsnbextension~=3.6.0->ipywidgets<8.0,>=7.5->dataprep) (0.6.0)\n",
            "Requirement already satisfied: webencodings in /usr/local/lib/python3.7/dist-packages (from bleach->nbconvert->notebook>=4.4.1->widgetsnbextension~=3.6.0->ipywidgets<8.0,>=7.5->dataprep) (0.5.1)\n"
          ]
        }
      ]
    },
    {
      "cell_type": "code",
      "execution_count": 40,
      "metadata": {
        "colab": {
          "base_uri": "https://localhost:8080/"
        },
        "id": "Jtdhealdl4IG",
        "outputId": "2231e9bc-16df-4a2a-a854-c9416a75c9d4"
      },
      "outputs": [
        {
          "output_type": "stream",
          "name": "stderr",
          "text": [
            ""
          ]
        },
        {
          "output_type": "stream",
          "name": "stdout",
          "text": [
            "Report has been saved to affiliate_product_reference_EDA_Report.html!\n"
          ]
        },
        {
          "output_type": "stream",
          "name": "stderr",
          "text": [
            ""
          ]
        },
        {
          "output_type": "stream",
          "name": "stdout",
          "text": [
            "Report has been saved to clickout_EDA_Report.html!\n"
          ]
        },
        {
          "output_type": "stream",
          "name": "stderr",
          "text": [
            ""
          ]
        },
        {
          "output_type": "stream",
          "name": "stdout",
          "text": [
            "Report has been saved to creative_EDA_Report.html!\n"
          ]
        },
        {
          "output_type": "stream",
          "name": "stderr",
          "text": [
            ""
          ]
        },
        {
          "output_type": "stream",
          "name": "stdout",
          "text": [
            "Report has been saved to currency_EDA_Report.html!\n"
          ]
        },
        {
          "output_type": "stream",
          "name": "stderr",
          "text": [
            ""
          ]
        },
        {
          "output_type": "stream",
          "name": "stdout",
          "text": [
            "Report has been saved to domain_EDA_Report.html!\n"
          ]
        },
        {
          "output_type": "stream",
          "name": "stderr",
          "text": [
            ""
          ]
        },
        {
          "output_type": "stream",
          "name": "stdout",
          "text": [
            "Report has been saved to microsoft_clickout_info_EDA_Report.html!\n"
          ]
        },
        {
          "output_type": "stream",
          "name": "stderr",
          "text": [
            ""
          ]
        },
        {
          "output_type": "stream",
          "name": "stdout",
          "text": [
            "Report has been saved to product_EDA_Report.html!\n"
          ]
        },
        {
          "output_type": "stream",
          "name": "stderr",
          "text": [
            ""
          ]
        },
        {
          "output_type": "stream",
          "name": "stdout",
          "text": [
            "Report has been saved to sale_EDA_Report.html!\n"
          ]
        },
        {
          "output_type": "stream",
          "name": "stderr",
          "text": [
            ""
          ]
        },
        {
          "output_type": "stream",
          "name": "stdout",
          "text": [
            "Report has been saved to sale_item_EDA_Report.html!\n"
          ]
        },
        {
          "output_type": "stream",
          "name": "stderr",
          "text": [
            ""
          ]
        },
        {
          "output_type": "stream",
          "name": "stdout",
          "text": [
            "Report has been saved to tracking_dimension_EDA_Report.html!\n"
          ]
        },
        {
          "output_type": "stream",
          "name": "stderr",
          "text": [
            ""
          ]
        },
        {
          "output_type": "stream",
          "name": "stdout",
          "text": [
            "Report has been saved to vendor_EDA_Report.html!\n"
          ]
        }
      ],
      "source": [
        "from dataprep.eda import create_report\n",
        "import pandas as pd\n",
        "\n",
        "\n",
        "for table_name in df_dict.keys():\n",
        "  report = create_report(df_dict.get(table_name), title= table_name)\n",
        "  report.save(table_name+'_EDA_Report')"
      ]
    },
    {
      "cell_type": "code",
      "source": [
        "from google.colab import files\n",
        "\n",
        "for table_name in df_dict.keys():\n",
        "  files.download(table_name+'_EDA_Report.html')"
      ],
      "metadata": {
        "colab": {
          "base_uri": "https://localhost:8080/",
          "height": 17
        },
        "id": "guA-MqTP55r0",
        "outputId": "1d80774d-7b18-4cca-b2a5-d5ec79ffc0dc"
      },
      "execution_count": 42,
      "outputs": [
        {
          "output_type": "display_data",
          "data": {
            "text/plain": [
              "<IPython.core.display.Javascript object>"
            ],
            "application/javascript": [
              "\n",
              "    async function download(id, filename, size) {\n",
              "      if (!google.colab.kernel.accessAllowed) {\n",
              "        return;\n",
              "      }\n",
              "      const div = document.createElement('div');\n",
              "      const label = document.createElement('label');\n",
              "      label.textContent = `Downloading \"${filename}\": `;\n",
              "      div.appendChild(label);\n",
              "      const progress = document.createElement('progress');\n",
              "      progress.max = size;\n",
              "      div.appendChild(progress);\n",
              "      document.body.appendChild(div);\n",
              "\n",
              "      const buffers = [];\n",
              "      let downloaded = 0;\n",
              "\n",
              "      const channel = await google.colab.kernel.comms.open(id);\n",
              "      // Send a message to notify the kernel that we're ready.\n",
              "      channel.send({})\n",
              "\n",
              "      for await (const message of channel.messages) {\n",
              "        // Send a message to notify the kernel that we're ready.\n",
              "        channel.send({})\n",
              "        if (message.buffers) {\n",
              "          for (const buffer of message.buffers) {\n",
              "            buffers.push(buffer);\n",
              "            downloaded += buffer.byteLength;\n",
              "            progress.value = downloaded;\n",
              "          }\n",
              "        }\n",
              "      }\n",
              "      const blob = new Blob(buffers, {type: 'application/binary'});\n",
              "      const a = document.createElement('a');\n",
              "      a.href = window.URL.createObjectURL(blob);\n",
              "      a.download = filename;\n",
              "      div.appendChild(a);\n",
              "      a.click();\n",
              "      div.remove();\n",
              "    }\n",
              "  "
            ]
          },
          "metadata": {}
        },
        {
          "output_type": "display_data",
          "data": {
            "text/plain": [
              "<IPython.core.display.Javascript object>"
            ],
            "application/javascript": [
              "download(\"download_cc25e7ba-dc87-4845-9fa8-178447447033\", \"affiliate_product_reference_EDA_Report.html\", 1717994)"
            ]
          },
          "metadata": {}
        },
        {
          "output_type": "display_data",
          "data": {
            "text/plain": [
              "<IPython.core.display.Javascript object>"
            ],
            "application/javascript": [
              "\n",
              "    async function download(id, filename, size) {\n",
              "      if (!google.colab.kernel.accessAllowed) {\n",
              "        return;\n",
              "      }\n",
              "      const div = document.createElement('div');\n",
              "      const label = document.createElement('label');\n",
              "      label.textContent = `Downloading \"${filename}\": `;\n",
              "      div.appendChild(label);\n",
              "      const progress = document.createElement('progress');\n",
              "      progress.max = size;\n",
              "      div.appendChild(progress);\n",
              "      document.body.appendChild(div);\n",
              "\n",
              "      const buffers = [];\n",
              "      let downloaded = 0;\n",
              "\n",
              "      const channel = await google.colab.kernel.comms.open(id);\n",
              "      // Send a message to notify the kernel that we're ready.\n",
              "      channel.send({})\n",
              "\n",
              "      for await (const message of channel.messages) {\n",
              "        // Send a message to notify the kernel that we're ready.\n",
              "        channel.send({})\n",
              "        if (message.buffers) {\n",
              "          for (const buffer of message.buffers) {\n",
              "            buffers.push(buffer);\n",
              "            downloaded += buffer.byteLength;\n",
              "            progress.value = downloaded;\n",
              "          }\n",
              "        }\n",
              "      }\n",
              "      const blob = new Blob(buffers, {type: 'application/binary'});\n",
              "      const a = document.createElement('a');\n",
              "      a.href = window.URL.createObjectURL(blob);\n",
              "      a.download = filename;\n",
              "      div.appendChild(a);\n",
              "      a.click();\n",
              "      div.remove();\n",
              "    }\n",
              "  "
            ]
          },
          "metadata": {}
        },
        {
          "output_type": "display_data",
          "data": {
            "text/plain": [
              "<IPython.core.display.Javascript object>"
            ],
            "application/javascript": [
              "download(\"download_3092000c-fd61-4206-b872-24d702625cc1\", \"clickout_EDA_Report.html\", 2463326)"
            ]
          },
          "metadata": {}
        },
        {
          "output_type": "display_data",
          "data": {
            "text/plain": [
              "<IPython.core.display.Javascript object>"
            ],
            "application/javascript": [
              "\n",
              "    async function download(id, filename, size) {\n",
              "      if (!google.colab.kernel.accessAllowed) {\n",
              "        return;\n",
              "      }\n",
              "      const div = document.createElement('div');\n",
              "      const label = document.createElement('label');\n",
              "      label.textContent = `Downloading \"${filename}\": `;\n",
              "      div.appendChild(label);\n",
              "      const progress = document.createElement('progress');\n",
              "      progress.max = size;\n",
              "      div.appendChild(progress);\n",
              "      document.body.appendChild(div);\n",
              "\n",
              "      const buffers = [];\n",
              "      let downloaded = 0;\n",
              "\n",
              "      const channel = await google.colab.kernel.comms.open(id);\n",
              "      // Send a message to notify the kernel that we're ready.\n",
              "      channel.send({})\n",
              "\n",
              "      for await (const message of channel.messages) {\n",
              "        // Send a message to notify the kernel that we're ready.\n",
              "        channel.send({})\n",
              "        if (message.buffers) {\n",
              "          for (const buffer of message.buffers) {\n",
              "            buffers.push(buffer);\n",
              "            downloaded += buffer.byteLength;\n",
              "            progress.value = downloaded;\n",
              "          }\n",
              "        }\n",
              "      }\n",
              "      const blob = new Blob(buffers, {type: 'application/binary'});\n",
              "      const a = document.createElement('a');\n",
              "      a.href = window.URL.createObjectURL(blob);\n",
              "      a.download = filename;\n",
              "      div.appendChild(a);\n",
              "      a.click();\n",
              "      div.remove();\n",
              "    }\n",
              "  "
            ]
          },
          "metadata": {}
        },
        {
          "output_type": "display_data",
          "data": {
            "text/plain": [
              "<IPython.core.display.Javascript object>"
            ],
            "application/javascript": [
              "download(\"download_8bcd2e03-1814-461b-a12c-0900752c1b5b\", \"creative_EDA_Report.html\", 1586494)"
            ]
          },
          "metadata": {}
        },
        {
          "output_type": "display_data",
          "data": {
            "text/plain": [
              "<IPython.core.display.Javascript object>"
            ],
            "application/javascript": [
              "\n",
              "    async function download(id, filename, size) {\n",
              "      if (!google.colab.kernel.accessAllowed) {\n",
              "        return;\n",
              "      }\n",
              "      const div = document.createElement('div');\n",
              "      const label = document.createElement('label');\n",
              "      label.textContent = `Downloading \"${filename}\": `;\n",
              "      div.appendChild(label);\n",
              "      const progress = document.createElement('progress');\n",
              "      progress.max = size;\n",
              "      div.appendChild(progress);\n",
              "      document.body.appendChild(div);\n",
              "\n",
              "      const buffers = [];\n",
              "      let downloaded = 0;\n",
              "\n",
              "      const channel = await google.colab.kernel.comms.open(id);\n",
              "      // Send a message to notify the kernel that we're ready.\n",
              "      channel.send({})\n",
              "\n",
              "      for await (const message of channel.messages) {\n",
              "        // Send a message to notify the kernel that we're ready.\n",
              "        channel.send({})\n",
              "        if (message.buffers) {\n",
              "          for (const buffer of message.buffers) {\n",
              "            buffers.push(buffer);\n",
              "            downloaded += buffer.byteLength;\n",
              "            progress.value = downloaded;\n",
              "          }\n",
              "        }\n",
              "      }\n",
              "      const blob = new Blob(buffers, {type: 'application/binary'});\n",
              "      const a = document.createElement('a');\n",
              "      a.href = window.URL.createObjectURL(blob);\n",
              "      a.download = filename;\n",
              "      div.appendChild(a);\n",
              "      a.click();\n",
              "      div.remove();\n",
              "    }\n",
              "  "
            ]
          },
          "metadata": {}
        },
        {
          "output_type": "display_data",
          "data": {
            "text/plain": [
              "<IPython.core.display.Javascript object>"
            ],
            "application/javascript": [
              "download(\"download_a11cc560-7021-4970-948c-68869a177536\", \"currency_EDA_Report.html\", 1585043)"
            ]
          },
          "metadata": {}
        },
        {
          "output_type": "display_data",
          "data": {
            "text/plain": [
              "<IPython.core.display.Javascript object>"
            ],
            "application/javascript": [
              "\n",
              "    async function download(id, filename, size) {\n",
              "      if (!google.colab.kernel.accessAllowed) {\n",
              "        return;\n",
              "      }\n",
              "      const div = document.createElement('div');\n",
              "      const label = document.createElement('label');\n",
              "      label.textContent = `Downloading \"${filename}\": `;\n",
              "      div.appendChild(label);\n",
              "      const progress = document.createElement('progress');\n",
              "      progress.max = size;\n",
              "      div.appendChild(progress);\n",
              "      document.body.appendChild(div);\n",
              "\n",
              "      const buffers = [];\n",
              "      let downloaded = 0;\n",
              "\n",
              "      const channel = await google.colab.kernel.comms.open(id);\n",
              "      // Send a message to notify the kernel that we're ready.\n",
              "      channel.send({})\n",
              "\n",
              "      for await (const message of channel.messages) {\n",
              "        // Send a message to notify the kernel that we're ready.\n",
              "        channel.send({})\n",
              "        if (message.buffers) {\n",
              "          for (const buffer of message.buffers) {\n",
              "            buffers.push(buffer);\n",
              "            downloaded += buffer.byteLength;\n",
              "            progress.value = downloaded;\n",
              "          }\n",
              "        }\n",
              "      }\n",
              "      const blob = new Blob(buffers, {type: 'application/binary'});\n",
              "      const a = document.createElement('a');\n",
              "      a.href = window.URL.createObjectURL(blob);\n",
              "      a.download = filename;\n",
              "      div.appendChild(a);\n",
              "      a.click();\n",
              "      div.remove();\n",
              "    }\n",
              "  "
            ]
          },
          "metadata": {}
        },
        {
          "output_type": "display_data",
          "data": {
            "text/plain": [
              "<IPython.core.display.Javascript object>"
            ],
            "application/javascript": [
              "download(\"download_292e5a62-59f9-4e99-9970-fd96e16ea35f\", \"domain_EDA_Report.html\", 1542697)"
            ]
          },
          "metadata": {}
        },
        {
          "output_type": "display_data",
          "data": {
            "text/plain": [
              "<IPython.core.display.Javascript object>"
            ],
            "application/javascript": [
              "\n",
              "    async function download(id, filename, size) {\n",
              "      if (!google.colab.kernel.accessAllowed) {\n",
              "        return;\n",
              "      }\n",
              "      const div = document.createElement('div');\n",
              "      const label = document.createElement('label');\n",
              "      label.textContent = `Downloading \"${filename}\": `;\n",
              "      div.appendChild(label);\n",
              "      const progress = document.createElement('progress');\n",
              "      progress.max = size;\n",
              "      div.appendChild(progress);\n",
              "      document.body.appendChild(div);\n",
              "\n",
              "      const buffers = [];\n",
              "      let downloaded = 0;\n",
              "\n",
              "      const channel = await google.colab.kernel.comms.open(id);\n",
              "      // Send a message to notify the kernel that we're ready.\n",
              "      channel.send({})\n",
              "\n",
              "      for await (const message of channel.messages) {\n",
              "        // Send a message to notify the kernel that we're ready.\n",
              "        channel.send({})\n",
              "        if (message.buffers) {\n",
              "          for (const buffer of message.buffers) {\n",
              "            buffers.push(buffer);\n",
              "            downloaded += buffer.byteLength;\n",
              "            progress.value = downloaded;\n",
              "          }\n",
              "        }\n",
              "      }\n",
              "      const blob = new Blob(buffers, {type: 'application/binary'});\n",
              "      const a = document.createElement('a');\n",
              "      a.href = window.URL.createObjectURL(blob);\n",
              "      a.download = filename;\n",
              "      div.appendChild(a);\n",
              "      a.click();\n",
              "      div.remove();\n",
              "    }\n",
              "  "
            ]
          },
          "metadata": {}
        },
        {
          "output_type": "display_data",
          "data": {
            "text/plain": [
              "<IPython.core.display.Javascript object>"
            ],
            "application/javascript": [
              "download(\"download_b2395bef-eb21-4bd2-8b18-8f114cbdb83d\", \"microsoft_clickout_info_EDA_Report.html\", 1646994)"
            ]
          },
          "metadata": {}
        },
        {
          "output_type": "display_data",
          "data": {
            "text/plain": [
              "<IPython.core.display.Javascript object>"
            ],
            "application/javascript": [
              "\n",
              "    async function download(id, filename, size) {\n",
              "      if (!google.colab.kernel.accessAllowed) {\n",
              "        return;\n",
              "      }\n",
              "      const div = document.createElement('div');\n",
              "      const label = document.createElement('label');\n",
              "      label.textContent = `Downloading \"${filename}\": `;\n",
              "      div.appendChild(label);\n",
              "      const progress = document.createElement('progress');\n",
              "      progress.max = size;\n",
              "      div.appendChild(progress);\n",
              "      document.body.appendChild(div);\n",
              "\n",
              "      const buffers = [];\n",
              "      let downloaded = 0;\n",
              "\n",
              "      const channel = await google.colab.kernel.comms.open(id);\n",
              "      // Send a message to notify the kernel that we're ready.\n",
              "      channel.send({})\n",
              "\n",
              "      for await (const message of channel.messages) {\n",
              "        // Send a message to notify the kernel that we're ready.\n",
              "        channel.send({})\n",
              "        if (message.buffers) {\n",
              "          for (const buffer of message.buffers) {\n",
              "            buffers.push(buffer);\n",
              "            downloaded += buffer.byteLength;\n",
              "            progress.value = downloaded;\n",
              "          }\n",
              "        }\n",
              "      }\n",
              "      const blob = new Blob(buffers, {type: 'application/binary'});\n",
              "      const a = document.createElement('a');\n",
              "      a.href = window.URL.createObjectURL(blob);\n",
              "      a.download = filename;\n",
              "      div.appendChild(a);\n",
              "      a.click();\n",
              "      div.remove();\n",
              "    }\n",
              "  "
            ]
          },
          "metadata": {}
        },
        {
          "output_type": "display_data",
          "data": {
            "text/plain": [
              "<IPython.core.display.Javascript object>"
            ],
            "application/javascript": [
              "download(\"download_fe8d2229-9507-4c6a-8cee-ffa661ea35a6\", \"product_EDA_Report.html\", 1628321)"
            ]
          },
          "metadata": {}
        },
        {
          "output_type": "display_data",
          "data": {
            "text/plain": [
              "<IPython.core.display.Javascript object>"
            ],
            "application/javascript": [
              "\n",
              "    async function download(id, filename, size) {\n",
              "      if (!google.colab.kernel.accessAllowed) {\n",
              "        return;\n",
              "      }\n",
              "      const div = document.createElement('div');\n",
              "      const label = document.createElement('label');\n",
              "      label.textContent = `Downloading \"${filename}\": `;\n",
              "      div.appendChild(label);\n",
              "      const progress = document.createElement('progress');\n",
              "      progress.max = size;\n",
              "      div.appendChild(progress);\n",
              "      document.body.appendChild(div);\n",
              "\n",
              "      const buffers = [];\n",
              "      let downloaded = 0;\n",
              "\n",
              "      const channel = await google.colab.kernel.comms.open(id);\n",
              "      // Send a message to notify the kernel that we're ready.\n",
              "      channel.send({})\n",
              "\n",
              "      for await (const message of channel.messages) {\n",
              "        // Send a message to notify the kernel that we're ready.\n",
              "        channel.send({})\n",
              "        if (message.buffers) {\n",
              "          for (const buffer of message.buffers) {\n",
              "            buffers.push(buffer);\n",
              "            downloaded += buffer.byteLength;\n",
              "            progress.value = downloaded;\n",
              "          }\n",
              "        }\n",
              "      }\n",
              "      const blob = new Blob(buffers, {type: 'application/binary'});\n",
              "      const a = document.createElement('a');\n",
              "      a.href = window.URL.createObjectURL(blob);\n",
              "      a.download = filename;\n",
              "      div.appendChild(a);\n",
              "      a.click();\n",
              "      div.remove();\n",
              "    }\n",
              "  "
            ]
          },
          "metadata": {}
        },
        {
          "output_type": "display_data",
          "data": {
            "text/plain": [
              "<IPython.core.display.Javascript object>"
            ],
            "application/javascript": [
              "download(\"download_0c90e032-a157-48bd-b2cf-17043f1e3bf0\", \"sale_EDA_Report.html\", 2101065)"
            ]
          },
          "metadata": {}
        },
        {
          "output_type": "display_data",
          "data": {
            "text/plain": [
              "<IPython.core.display.Javascript object>"
            ],
            "application/javascript": [
              "\n",
              "    async function download(id, filename, size) {\n",
              "      if (!google.colab.kernel.accessAllowed) {\n",
              "        return;\n",
              "      }\n",
              "      const div = document.createElement('div');\n",
              "      const label = document.createElement('label');\n",
              "      label.textContent = `Downloading \"${filename}\": `;\n",
              "      div.appendChild(label);\n",
              "      const progress = document.createElement('progress');\n",
              "      progress.max = size;\n",
              "      div.appendChild(progress);\n",
              "      document.body.appendChild(div);\n",
              "\n",
              "      const buffers = [];\n",
              "      let downloaded = 0;\n",
              "\n",
              "      const channel = await google.colab.kernel.comms.open(id);\n",
              "      // Send a message to notify the kernel that we're ready.\n",
              "      channel.send({})\n",
              "\n",
              "      for await (const message of channel.messages) {\n",
              "        // Send a message to notify the kernel that we're ready.\n",
              "        channel.send({})\n",
              "        if (message.buffers) {\n",
              "          for (const buffer of message.buffers) {\n",
              "            buffers.push(buffer);\n",
              "            downloaded += buffer.byteLength;\n",
              "            progress.value = downloaded;\n",
              "          }\n",
              "        }\n",
              "      }\n",
              "      const blob = new Blob(buffers, {type: 'application/binary'});\n",
              "      const a = document.createElement('a');\n",
              "      a.href = window.URL.createObjectURL(blob);\n",
              "      a.download = filename;\n",
              "      div.appendChild(a);\n",
              "      a.click();\n",
              "      div.remove();\n",
              "    }\n",
              "  "
            ]
          },
          "metadata": {}
        },
        {
          "output_type": "display_data",
          "data": {
            "text/plain": [
              "<IPython.core.display.Javascript object>"
            ],
            "application/javascript": [
              "download(\"download_c7843423-295f-46bd-97c8-c97fdfc93f22\", \"sale_item_EDA_Report.html\", 2428452)"
            ]
          },
          "metadata": {}
        },
        {
          "output_type": "display_data",
          "data": {
            "text/plain": [
              "<IPython.core.display.Javascript object>"
            ],
            "application/javascript": [
              "\n",
              "    async function download(id, filename, size) {\n",
              "      if (!google.colab.kernel.accessAllowed) {\n",
              "        return;\n",
              "      }\n",
              "      const div = document.createElement('div');\n",
              "      const label = document.createElement('label');\n",
              "      label.textContent = `Downloading \"${filename}\": `;\n",
              "      div.appendChild(label);\n",
              "      const progress = document.createElement('progress');\n",
              "      progress.max = size;\n",
              "      div.appendChild(progress);\n",
              "      document.body.appendChild(div);\n",
              "\n",
              "      const buffers = [];\n",
              "      let downloaded = 0;\n",
              "\n",
              "      const channel = await google.colab.kernel.comms.open(id);\n",
              "      // Send a message to notify the kernel that we're ready.\n",
              "      channel.send({})\n",
              "\n",
              "      for await (const message of channel.messages) {\n",
              "        // Send a message to notify the kernel that we're ready.\n",
              "        channel.send({})\n",
              "        if (message.buffers) {\n",
              "          for (const buffer of message.buffers) {\n",
              "            buffers.push(buffer);\n",
              "            downloaded += buffer.byteLength;\n",
              "            progress.value = downloaded;\n",
              "          }\n",
              "        }\n",
              "      }\n",
              "      const blob = new Blob(buffers, {type: 'application/binary'});\n",
              "      const a = document.createElement('a');\n",
              "      a.href = window.URL.createObjectURL(blob);\n",
              "      a.download = filename;\n",
              "      div.appendChild(a);\n",
              "      a.click();\n",
              "      div.remove();\n",
              "    }\n",
              "  "
            ]
          },
          "metadata": {}
        },
        {
          "output_type": "display_data",
          "data": {
            "text/plain": [
              "<IPython.core.display.Javascript object>"
            ],
            "application/javascript": [
              "download(\"download_2e24d203-42ba-409b-be87-a05e58e22aad\", \"tracking_dimension_EDA_Report.html\", 1570833)"
            ]
          },
          "metadata": {}
        },
        {
          "output_type": "display_data",
          "data": {
            "text/plain": [
              "<IPython.core.display.Javascript object>"
            ],
            "application/javascript": [
              "\n",
              "    async function download(id, filename, size) {\n",
              "      if (!google.colab.kernel.accessAllowed) {\n",
              "        return;\n",
              "      }\n",
              "      const div = document.createElement('div');\n",
              "      const label = document.createElement('label');\n",
              "      label.textContent = `Downloading \"${filename}\": `;\n",
              "      div.appendChild(label);\n",
              "      const progress = document.createElement('progress');\n",
              "      progress.max = size;\n",
              "      div.appendChild(progress);\n",
              "      document.body.appendChild(div);\n",
              "\n",
              "      const buffers = [];\n",
              "      let downloaded = 0;\n",
              "\n",
              "      const channel = await google.colab.kernel.comms.open(id);\n",
              "      // Send a message to notify the kernel that we're ready.\n",
              "      channel.send({})\n",
              "\n",
              "      for await (const message of channel.messages) {\n",
              "        // Send a message to notify the kernel that we're ready.\n",
              "        channel.send({})\n",
              "        if (message.buffers) {\n",
              "          for (const buffer of message.buffers) {\n",
              "            buffers.push(buffer);\n",
              "            downloaded += buffer.byteLength;\n",
              "            progress.value = downloaded;\n",
              "          }\n",
              "        }\n",
              "      }\n",
              "      const blob = new Blob(buffers, {type: 'application/binary'});\n",
              "      const a = document.createElement('a');\n",
              "      a.href = window.URL.createObjectURL(blob);\n",
              "      a.download = filename;\n",
              "      div.appendChild(a);\n",
              "      a.click();\n",
              "      div.remove();\n",
              "    }\n",
              "  "
            ]
          },
          "metadata": {}
        },
        {
          "output_type": "display_data",
          "data": {
            "text/plain": [
              "<IPython.core.display.Javascript object>"
            ],
            "application/javascript": [
              "download(\"download_afb18a0a-b251-4c0e-a1e8-1692ff36958e\", \"vendor_EDA_Report.html\", 1542541)"
            ]
          },
          "metadata": {}
        }
      ]
    },
    {
      "cell_type": "code",
      "source": [
        "files.download('dbschema.png')"
      ],
      "metadata": {
        "colab": {
          "base_uri": "https://localhost:8080/",
          "height": 17
        },
        "id": "SH7StKz__SCG",
        "outputId": "c9b71412-f8e1-4cd4-c556-a119c562d518"
      },
      "execution_count": 54,
      "outputs": [
        {
          "output_type": "display_data",
          "data": {
            "text/plain": [
              "<IPython.core.display.Javascript object>"
            ],
            "application/javascript": [
              "\n",
              "    async function download(id, filename, size) {\n",
              "      if (!google.colab.kernel.accessAllowed) {\n",
              "        return;\n",
              "      }\n",
              "      const div = document.createElement('div');\n",
              "      const label = document.createElement('label');\n",
              "      label.textContent = `Downloading \"${filename}\": `;\n",
              "      div.appendChild(label);\n",
              "      const progress = document.createElement('progress');\n",
              "      progress.max = size;\n",
              "      div.appendChild(progress);\n",
              "      document.body.appendChild(div);\n",
              "\n",
              "      const buffers = [];\n",
              "      let downloaded = 0;\n",
              "\n",
              "      const channel = await google.colab.kernel.comms.open(id);\n",
              "      // Send a message to notify the kernel that we're ready.\n",
              "      channel.send({})\n",
              "\n",
              "      for await (const message of channel.messages) {\n",
              "        // Send a message to notify the kernel that we're ready.\n",
              "        channel.send({})\n",
              "        if (message.buffers) {\n",
              "          for (const buffer of message.buffers) {\n",
              "            buffers.push(buffer);\n",
              "            downloaded += buffer.byteLength;\n",
              "            progress.value = downloaded;\n",
              "          }\n",
              "        }\n",
              "      }\n",
              "      const blob = new Blob(buffers, {type: 'application/binary'});\n",
              "      const a = document.createElement('a');\n",
              "      a.href = window.URL.createObjectURL(blob);\n",
              "      a.download = filename;\n",
              "      div.appendChild(a);\n",
              "      a.click();\n",
              "      div.remove();\n",
              "    }\n",
              "  "
            ]
          },
          "metadata": {}
        },
        {
          "output_type": "display_data",
          "data": {
            "text/plain": [
              "<IPython.core.display.Javascript object>"
            ],
            "application/javascript": [
              "download(\"download_8cdc316c-c46e-4498-8244-6228e958a646\", \"dbschema.png\", 66777)"
            ]
          },
          "metadata": {}
        }
      ]
    }
  ],
  "metadata": {
    "colab": {
      "name": "WB_ParasKhulbe",
      "provenance": [],
      "authorship_tag": "ABX9TyOlQ62btU2iaIS0dmMzEtEE",
      "include_colab_link": true
    },
    "kernelspec": {
      "display_name": "Python 3",
      "name": "python3"
    },
    "language_info": {
      "name": "python"
    }
  },
  "nbformat": 4,
  "nbformat_minor": 0
}